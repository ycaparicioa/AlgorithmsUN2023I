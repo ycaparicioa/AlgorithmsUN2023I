{
  "nbformat": 4,
  "nbformat_minor": 0,
  "metadata": {
    "colab": {
      "provenance": [],
      "include_colab_link": true
    },
    "kernelspec": {
      "name": "python3",
      "display_name": "Python 3"
    },
    "language_info": {
      "name": "python"
    }
  },
  "cells": [
    {
      "cell_type": "markdown",
      "metadata": {
        "id": "view-in-github",
        "colab_type": "text"
      },
      "source": [
        "<a href=\"https://colab.research.google.com/github/ycaparicioa/AlgorithmsUN2023I/blob/main/Lab9/CormenSizeTimeComplexityGroup2.ipynb\" target=\"_parent\"><img src=\"https://colab.research.google.com/assets/colab-badge.svg\" alt=\"Open In Colab\"/></a>"
      ]
    },
    {
      "cell_type": "markdown",
      "source": [
        "# **Group 2  - Lab 9**"
      ],
      "metadata": {
        "id": "Kx9nFN6QU-7E"
      }
    },
    {
      "cell_type": "markdown",
      "source": [
        "# **Members**\n",
        "\n",
        "\n",
        "\n",
        "1.   yeison camilo aparicio aponte\n",
        "2.   nicolas alejandro bello pinzon\n",
        "3.   juan david lopez vargas "
      ],
      "metadata": {
        "id": "nVBl8KghU__V"
      }
    },
    {
      "cell_type": "markdown",
      "metadata": {
        "id": "9fIs_70_DJWM"
      },
      "source": [
        "# 2.(2.5  nanoseconds by instruction)\n",
        "\n",
        "Asuuming that you can execute a 400 million instructions $400 \\times 10^6$ every second, i.e. each instrcution takes 2.5  nanoseconds, 2.5 $\\eta s  = 2.5 \\times 10^{-9} s$. If you have algorithms take $\\bf{ Time\\ Complexity}$ steps to solve a problem of size $n$ as specified in column one. What is the size of the largest problem that you can solve in the time specified in row one?\n",
        "$$\n",
        "\\begin{array}{|c|c|c|c|c|c|c|c|} \n",
        " \\hline\n",
        " \\bf{ Time\\ Complexity} & Second  & Minute  & Hour & Day & Year & Century & Mileniun  \\\\ \n",
        "  \\hline\\\\ \n",
        "\\lg(n) & 2^{2.5 × 10^{9}} &  2^{60 × 2.5 × 10^{9}} & 2^{3.6 × 2.5 × 10^{11}} & 2^{8.64 × 2.5 × 10^{13}} & 2^{3.1536 × 2.5×10^{16}} & 2^{3.1536 × 2.5×10^{18}} &  2^{3.1536 ×2.5×10^{21}}\\\\ \n",
        "   \\hline\\\\ \n",
        "\\lg^2(n) & 2^{50000}& 2^{ 387298 } & 2^{ 3000000 } & 2^{ 14696938 } & 2^{ 280784615 } & 2^{ 2807846150 } & 2^{ 88791891522 } \\\\ \n",
        "   \\hline\\\\ \n",
        "\\sqrt{n} & 6.25 × 10^{18} & 2.25 × 10^{22} & 8.1 × 10^{25} & 4.6656 × 10^{28} & 6.2157456 × 10^{33} & 6.2157456 × 10^{37} & 6.2157456 × 10^{43} \\\\ \n",
        " \\hline\n",
        " n & 2.5 × 10^{9} & 1.5 × 10^{11} & 9 × 10^{12} & 2.16 × 10^{14} & 7.884 × 10^{16} & 7.884 × 10^{18} & 7.884 × 10^{21} \\\\ \n",
        " \\hline\n",
        " n\\lg(n) &  9.4368799 × 10^{7}  &  4.66988019 × 10^{9}  & 2.38139247 × 10^{11} & 5.11627318 × 10^{12} & 1.5620432 × 10^{15} & 1.38456172 × 10^{17} & 1.18235944 × 10^{20} \\\\ \n",
        " \\hline\n",
        " n^2 &   50000 & 387298  & 3000000 & 14696938 & 280784615 & 2807846150 & 88791891522 \\\\ \n",
        " \\hline\n",
        "  n^3 &  1357  & 5313  & 20801 & 60000 & 428794 & 1990286 & 19902862 \\\\ \n",
        " \\hline\n",
        "  n^4 &  224  & 622  & 1732 & 3834 & 16757 & 52989 & 297980 \\\\ \n",
        " \\hline\n",
        "  2^n & 31   &  37 & 43 & 47  & 56 & 62 & 72  \\\\ \n",
        " \\hline\n",
        " n! &  12  &  14 & 15 & 16 & 18 & 20 & 22 \\\\ \n",
        " \\hline\n",
        " n^n &  9  &  10 & 12 & 12 & 14 & 15 & 17 \\\\ \n",
        " \\hline\n",
        "\\end{array}\n",
        "$$"
      ]
    }
  ]
}