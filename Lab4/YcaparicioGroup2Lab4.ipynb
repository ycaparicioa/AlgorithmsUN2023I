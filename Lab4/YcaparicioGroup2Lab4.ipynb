{
  "nbformat": 4,
  "nbformat_minor": 0,
  "metadata": {
    "colab": {
      "provenance": []
    },
    "kernelspec": {
      "name": "python3",
      "display_name": "Python 3"
    },
    "language_info": {
      "name": "python"
    }
  },
  "cells": [
    {
      "cell_type": "markdown",
      "metadata": {
        "id": "N1ok_-56OjB1"
      },
      "source": [
        "# I Solving the Sum of Two Digits Programming Challenge"
      ]
    },
    {
      "cell_type": "markdown",
      "metadata": {
        "id": "MMY7kmDSO0KM"
      },
      "source": [
        "## C++"
      ]
    },
    {
      "cell_type": "code",
      "metadata": {
        "colab": {
          "base_uri": "https://localhost:8080/"
        },
        "id": "2pGGf9BkPNIk",
        "outputId": "b8c44042-8140-4d03-b11a-6a5b7d5e4173"
      },
      "source": [
        "%%writefile APlusB.cpp\n",
        "#include <iostream>\n",
        "using namespace std;\n",
        "\n",
        "int sum_of_two_digits(int first_digit, int second_digit) {\n",
        "    return first_digit + second_digit;\n",
        "}\n",
        "\n",
        "int main() {\n",
        "    int a = 0;\n",
        "    int b = 0;\n",
        "    cin >> a;\n",
        "    cin >> b;\n",
        "    cout << sum_of_two_digits(a, b);\n",
        "    return 0;\n",
        "}"
      ],
      "execution_count": 1,
      "outputs": [
        {
          "output_type": "stream",
          "name": "stdout",
          "text": [
            "Writing APlusB.cpp\n"
          ]
        }
      ]
    },
    {
      "cell_type": "code",
      "metadata": {
        "colab": {
          "base_uri": "https://localhost:8080/"
        },
        "id": "0G3ZKOYAPXSU",
        "outputId": "64d9e5c1-031f-4407-ec6a-d622a0b9e768"
      },
      "source": [
        "!g++ APlusB.cpp -o APlusB\n",
        "!./APlusB"
      ],
      "execution_count": 2,
      "outputs": [
        {
          "output_type": "stream",
          "name": "stdout",
          "text": [
            "2\n",
            "4\n",
            "6"
          ]
        }
      ]
    },
    {
      "cell_type": "markdown",
      "metadata": {
        "id": "iNkG2HqfTl9c"
      },
      "source": [
        "### Test input output files"
      ]
    },
    {
      "cell_type": "code",
      "metadata": {
        "colab": {
          "base_uri": "https://localhost:8080/"
        },
        "id": "aTzU2efzMxly",
        "outputId": "9692a673-e1ad-4681-ef3c-f04c5cb4f32c"
      },
      "source": [
        "%%writefile input1.txt\n",
        "4 8"
      ],
      "execution_count": 73,
      "outputs": [
        {
          "output_type": "stream",
          "name": "stdout",
          "text": [
            "Overwriting input1.txt\n"
          ]
        }
      ]
    },
    {
      "cell_type": "markdown",
      "metadata": {
        "id": "pdkfsvs-T0Wr"
      },
      "source": []
    },
    {
      "cell_type": "code",
      "metadata": {
        "colab": {
          "base_uri": "https://localhost:8080/"
        },
        "id": "zBJ0Gc0NQRet",
        "outputId": "04ac6114-bc02-44a8-fabf-f71dee58f0a6"
      },
      "source": [
        "%%writefile output1.txt\n",
        "12"
      ],
      "execution_count": 74,
      "outputs": [
        {
          "output_type": "stream",
          "name": "stdout",
          "text": [
            "Overwriting output1.txt\n"
          ]
        }
      ]
    },
    {
      "cell_type": "code",
      "metadata": {
        "colab": {
          "base_uri": "https://localhost:8080/"
        },
        "id": "IjEcIx63PJAN",
        "outputId": "4803f8f9-bea2-4402-822b-a64154b7ea68"
      },
      "source": [
        "%%writefile input2.txt\n",
        "-5 9"
      ],
      "execution_count": 75,
      "outputs": [
        {
          "output_type": "stream",
          "name": "stdout",
          "text": [
            "Overwriting input2.txt\n"
          ]
        }
      ]
    },
    {
      "cell_type": "code",
      "metadata": {
        "colab": {
          "base_uri": "https://localhost:8080/"
        },
        "id": "Up9gOrxURTmd",
        "outputId": "edf1eff7-381b-48b6-a25c-29f4bfda8b34"
      },
      "source": [
        "%%writefile output2.txt\n",
        "4"
      ],
      "execution_count": 76,
      "outputs": [
        {
          "output_type": "stream",
          "name": "stdout",
          "text": [
            "Overwriting output2.txt\n"
          ]
        }
      ]
    },
    {
      "cell_type": "code",
      "metadata": {
        "colab": {
          "base_uri": "https://localhost:8080/"
        },
        "id": "PST6G-s-Pwgc",
        "outputId": "5702685d-0c94-4d4f-e2ee-4493826f9efd"
      },
      "source": [
        "!./APlusB < input1.txt"
      ],
      "execution_count": 77,
      "outputs": [
        {
          "output_type": "stream",
          "name": "stdout",
          "text": [
            "12"
          ]
        }
      ]
    },
    {
      "cell_type": "code",
      "metadata": {
        "colab": {
          "base_uri": "https://localhost:8080/"
        },
        "id": "cKxZOjSlRfIN",
        "outputId": "16f045ce-e55f-4b0a-f13c-e8cc1e9c616d"
      },
      "source": [
        "!./APlusB < input2.txt"
      ],
      "execution_count": 78,
      "outputs": [
        {
          "output_type": "stream",
          "name": "stdout",
          "text": [
            "4"
          ]
        }
      ]
    },
    {
      "cell_type": "markdown",
      "metadata": {
        "id": "Qw2TQWCCUwqk"
      },
      "source": [
        "### Comparing files with grep\n",
        "\n",
        "https://askubuntu.com/questions/546796/comparing-two-text-files"
      ]
    },
    {
      "cell_type": "code",
      "metadata": {
        "id": "WVIaAmMKU4QM"
      },
      "source": [
        "!grep -xvFf output1.txt output1.txt "
      ],
      "execution_count": 9,
      "outputs": []
    },
    {
      "cell_type": "code",
      "metadata": {
        "colab": {
          "base_uri": "https://localhost:8080/"
        },
        "id": "MQU8gPPjQuYO",
        "outputId": "fb366ce7-4086-49ff-e117-072c3cccde28"
      },
      "source": [
        "!grep -xvFf output1.txt output2.txt "
      ],
      "execution_count": 10,
      "outputs": [
        {
          "output_type": "stream",
          "name": "stdout",
          "text": [
            "7\n"
          ]
        }
      ]
    },
    {
      "cell_type": "code",
      "metadata": {
        "colab": {
          "base_uri": "https://localhost:8080/"
        },
        "id": "jYL9OuYBTD_l",
        "outputId": "466b0344-e882-4b79-a743-16cfff607251"
      },
      "source": [
        "!grep -xvFf output2.txt output1.txt "
      ],
      "execution_count": 11,
      "outputs": [
        {
          "output_type": "stream",
          "name": "stdout",
          "text": [
            "26\n"
          ]
        }
      ]
    },
    {
      "cell_type": "code",
      "metadata": {
        "id": "Jlja0Xm4TX9M"
      },
      "source": [
        "!./APlusB < input1.txt> ctest1.txt\n",
        "!grep -xvFf output1.txt ctest1.txt"
      ],
      "execution_count": 12,
      "outputs": []
    },
    {
      "cell_type": "code",
      "metadata": {
        "id": "g9OIUZA_QLCQ",
        "colab": {
          "base_uri": "https://localhost:8080/"
        },
        "outputId": "04baf2f3-e879-4217-d84f-7d970547ce05"
      },
      "source": [
        "!./APlusB < input2.txt > ctest2.txt\n",
        "!grep -xvFf output2.txt ctest2.txt"
      ],
      "execution_count": 13,
      "outputs": [
        {
          "output_type": "stream",
          "name": "stdout",
          "text": [
            "-5\n"
          ]
        }
      ]
    },
    {
      "cell_type": "markdown",
      "metadata": {
        "id": "3BgOaDjUVJk6"
      },
      "source": [
        "## Python"
      ]
    },
    {
      "cell_type": "code",
      "metadata": {
        "colab": {
          "base_uri": "https://localhost:8080/"
        },
        "id": "DBvl-T0CTN_8",
        "outputId": "15bcbf23-dcf0-4952-ca06-8a704deb5014"
      },
      "source": [
        "%%writefile sum.py\n",
        "# python3\n",
        "\n",
        "def sum_of_two_digits(first_digit, second_digit):\n",
        "    return first_digit + second_digit\n",
        "\n",
        "if __name__ == '__main__':\n",
        "    a, b = map(int, input().split())\n",
        "    print(sum_of_two_digits(a, b))"
      ],
      "execution_count": 14,
      "outputs": [
        {
          "output_type": "stream",
          "name": "stdout",
          "text": [
            "Writing sum.py\n"
          ]
        }
      ]
    },
    {
      "cell_type": "code",
      "metadata": {
        "colab": {
          "base_uri": "https://localhost:8080/"
        },
        "id": "QKoKM11_WGyF",
        "outputId": "9b622979-8824-4e01-d378-a9a14bceb69a"
      },
      "source": [
        "!python sum.py"
      ],
      "execution_count": 15,
      "outputs": [
        {
          "output_type": "stream",
          "name": "stdout",
          "text": [
            "4 6\n",
            "10\n"
          ]
        }
      ]
    },
    {
      "cell_type": "code",
      "metadata": {
        "id": "cocFbPRTWrqt"
      },
      "source": [
        "!python sum.py  < input1.txt> ptest1.txt\n",
        "!grep -xvFf output1.txt ptest1.txt"
      ],
      "execution_count": 16,
      "outputs": []
    },
    {
      "cell_type": "code",
      "metadata": {
        "id": "MorKTa-XXASN",
        "colab": {
          "base_uri": "https://localhost:8080/"
        },
        "outputId": "881a7eb5-c6c1-4865-ad61-a15d7ff2b212"
      },
      "source": [
        "!python sum.py  < input2.txt> ptest2.txt\n",
        "!grep -xvFf output2.txt ptest2.txt"
      ],
      "execution_count": 17,
      "outputs": [
        {
          "output_type": "stream",
          "name": "stdout",
          "text": [
            "-5\n"
          ]
        }
      ]
    },
    {
      "cell_type": "markdown",
      "metadata": {
        "id": "uvP-mOubW_5F"
      },
      "source": [
        "# II Solving The Maximum Pairwise Product Programming Challenge in C++"
      ]
    },
    {
      "cell_type": "markdown",
      "metadata": {
        "id": "C12yoFR6Xonl"
      },
      "source": [
        "## C++"
      ]
    },
    {
      "cell_type": "code",
      "metadata": {
        "colab": {
          "base_uri": "https://localhost:8080/"
        },
        "id": "YL4qJX3tXxdd",
        "outputId": "70ef7e4f-abdf-4b3f-e95f-e3c8e0bdbdd8"
      },
      "source": [
        "%%writefile max_pairwise_product.cpp\n",
        "#include <iostream>\n",
        "#include <vector>\n",
        "#include <algorithm>\n",
        "using namespace std;\n",
        "\n",
        "int MaxPairwiseProduct(const vector<int>& numbers) {\n",
        "    int max_product = 0;\n",
        "    int n = numbers.size();\n",
        "\n",
        "    for (int first = 0; first < n; ++first) {\n",
        "        for (int second = first + 1; second < n; ++second) {\n",
        "            max_product = max(max_product, numbers[first] * numbers[second]);\n",
        "        }\n",
        "    }\n",
        "\n",
        "    return max_product;\n",
        "}\n",
        "\n",
        "int main() {\n",
        "    int n;\n",
        "    cin >> n;\n",
        "    vector<int> numbers(n);\n",
        "    for (int i = 0; i < n; ++i) {\n",
        "        cin >> numbers[i];\n",
        "    }\n",
        "\n",
        "    cout << \"\\n\" << MaxPairwiseProduct(numbers) << \"\\n\";\n",
        "    return 0;\n",
        "}\n"
      ],
      "execution_count": 18,
      "outputs": [
        {
          "output_type": "stream",
          "name": "stdout",
          "text": [
            "Writing max_pairwise_product.cpp\n"
          ]
        }
      ]
    },
    {
      "cell_type": "code",
      "metadata": {
        "colab": {
          "base_uri": "https://localhost:8080/"
        },
        "id": "KGxaEjvWX__O",
        "outputId": "e669d764-c231-430a-e006-6e58b7c68b2b"
      },
      "source": [
        "!g++ max_pairwise_product.cpp -o max_pairwise_product\n",
        "!./max_pairwise_product"
      ],
      "execution_count": 19,
      "outputs": [
        {
          "output_type": "stream",
          "name": "stdout",
          "text": [
            "6\n",
            "23 1 89 56 34 5\n",
            "\n",
            "4984\n"
          ]
        }
      ]
    },
    {
      "cell_type": "markdown",
      "metadata": {
        "id": "e7KhxHGNS3i0"
      },
      "source": [
        "### Test 1: Small numbers"
      ]
    },
    {
      "cell_type": "code",
      "metadata": {
        "colab": {
          "base_uri": "https://localhost:8080/"
        },
        "id": "e1mmTzBgShT-",
        "outputId": "9e5a9409-4e47-426e-e676-aed963fd4c2b"
      },
      "source": [
        "%%writefile input1.txt\n",
        "10\n",
        "1 2 3 4 5 6 7 8 9 10"
      ],
      "execution_count": 20,
      "outputs": [
        {
          "output_type": "stream",
          "name": "stdout",
          "text": [
            "Overwriting input1.txt\n"
          ]
        }
      ]
    },
    {
      "cell_type": "code",
      "metadata": {
        "colab": {
          "base_uri": "https://localhost:8080/"
        },
        "id": "vy_uI0x7TCId",
        "outputId": "e5e4093e-3bc5-4cef-e3a9-3183ee3649d8"
      },
      "source": [
        "!./max_pairwise_product < input1.txt"
      ],
      "execution_count": 21,
      "outputs": [
        {
          "output_type": "stream",
          "name": "stdout",
          "text": [
            "\n",
            "90\n"
          ]
        }
      ]
    },
    {
      "cell_type": "markdown",
      "metadata": {
        "id": "IeZ3kTjpYmR9"
      },
      "source": [
        "### Test 2: largest input numbers 200000 200000 in the input"
      ]
    },
    {
      "cell_type": "code",
      "metadata": {
        "colab": {
          "base_uri": "https://localhost:8080/"
        },
        "id": "LQNlZqaqYt7U",
        "outputId": "bc0a03ba-e136-4408-da75-392de235078a"
      },
      "source": [
        "%%writefile input2.txt\n",
        "6\n",
        "1 3 200000 9 200000 23"
      ],
      "execution_count": 22,
      "outputs": [
        {
          "output_type": "stream",
          "name": "stdout",
          "text": [
            "Overwriting input2.txt\n"
          ]
        }
      ]
    },
    {
      "cell_type": "code",
      "metadata": {
        "colab": {
          "base_uri": "https://localhost:8080/"
        },
        "id": "2Wad2VZUZDxR",
        "outputId": "00598a40-91a7-4ec6-ae9f-8a5c4e04696e"
      },
      "source": [
        "!./max_pairwise_product < input2.txt"
      ],
      "execution_count": 23,
      "outputs": [
        {
          "output_type": "stream",
          "name": "stdout",
          "text": [
            "\n",
            "1345294336\n"
          ]
        }
      ]
    },
    {
      "cell_type": "markdown",
      "metadata": {
        "id": "H2SC0Qt5HCzz"
      },
      "source": [
        "Changing the variables to long long"
      ]
    },
    {
      "cell_type": "code",
      "metadata": {
        "colab": {
          "base_uri": "https://localhost:8080/"
        },
        "id": "MPcmsxiQZSfE",
        "outputId": "32c8f8e9-3bba-4a9d-c84c-06e6c42f846b"
      },
      "source": [
        "%%writefile max_pairwise_product_long.cpp\n",
        "#include <iostream>\n",
        "#include <vector>\n",
        "#include <algorithm>\n",
        "using namespace std;\n",
        "\n",
        "long long MaxPairwiseProduct(const vector<int>& numbers) {\n",
        "    long long max_product = 0LL;\n",
        "\t  long long aux_product = 0LL;\n",
        "    int n = numbers.size();\n",
        "\n",
        "    for (int first = 0; first < n; ++first) {\n",
        "        for (int second = first + 1; second < n; ++second) {\n",
        "\t\t\t       aux_product =  (long long) numbers[first] * numbers[second];\n",
        "            if ( max_product < aux_product)  {\n",
        "\t\t\t\t        max_product = aux_product;\n",
        "             }\n",
        "        }\n",
        "    }\n",
        "\n",
        "    return max_product;\n",
        "}\n",
        "\n",
        "int main() {\n",
        "    int n;\n",
        "    cin >> n;\n",
        "    vector<int> numbers(n);\n",
        "    for (int i = 0; i < n; ++i) {\n",
        "        cin >> numbers[i];\n",
        "    }\n",
        "\n",
        "    cout << MaxPairwiseProduct(numbers) << \"\\n\";\n",
        "    return 0;\n",
        "}\n"
      ],
      "execution_count": 24,
      "outputs": [
        {
          "output_type": "stream",
          "name": "stdout",
          "text": [
            "Writing max_pairwise_product_long.cpp\n"
          ]
        }
      ]
    },
    {
      "cell_type": "code",
      "metadata": {
        "colab": {
          "base_uri": "https://localhost:8080/"
        },
        "id": "I5pCeOG1Zm7s",
        "outputId": "80d879b6-ec93-4776-f57c-9ce80d6b1274"
      },
      "source": [
        "!g++ max_pairwise_product_long.cpp -o max_pairwise_product_long\n",
        "!./max_pairwise_product_long < input1.txt\n",
        "!./max_pairwise_product_long < input2.txt"
      ],
      "execution_count": 25,
      "outputs": [
        {
          "output_type": "stream",
          "name": "stdout",
          "text": [
            "90\n",
            "40000000000\n"
          ]
        }
      ]
    },
    {
      "cell_type": "markdown",
      "metadata": {
        "id": "XPVHkHxH6_7s"
      },
      "source": [
        "### Test 3  stress tests 20  times  random n in [2, 20] "
      ]
    },
    {
      "cell_type": "code",
      "metadata": {
        "id": "PwqpBmYr69fu",
        "colab": {
          "base_uri": "https://localhost:8080/"
        },
        "outputId": "aed97e2b-e054-4ebe-8794-91d0d5e5401d"
      },
      "source": [
        "%%writefile max_pairwise_product_long_test3.cpp\n",
        "#include <iostream>\n",
        "#include <vector>\n",
        "#include <algorithm>\n",
        "#include <climits>\n",
        "using namespace std;\n",
        "\n",
        "long long MaxPairwiseProduct(const vector<int>& numbers) {\n",
        "    long long max_product = 0LL;\n",
        "\t  long long aux_product = 0LL;\n",
        "    int n = numbers.size();\n",
        "\n",
        "    for (int first = 0; first < n; ++first) {\n",
        "        for (int second = first + 1; second < n; ++second) {\n",
        "\t\t\t       aux_product =  (long long) numbers[first] * numbers[second];\n",
        "            if ( max_product < aux_product)  {\n",
        "\t\t\t\t        max_product = aux_product;\n",
        "             }\n",
        "        }\n",
        "    }\n",
        "\n",
        "    return max_product;\n",
        "}\n",
        "\n",
        "int main() {\n",
        "    srand(time(NULL));\n",
        "    \n",
        "    for(int i = 0; i < 20; i++){\n",
        "      int n = rand() % 19 + 2;\n",
        "      vector<int> nums(n);\n",
        "\n",
        "      for(int j = 0; j < n; j++){\n",
        "        nums[j] = rand() % LLONG_MAX + 1;\n",
        "      }\n",
        "\n",
        "      cout << \"Test \" << i << \": \";\n",
        "      for(int j = 0; j < n; j++){\n",
        "        cout << nums[j] << \" \";\n",
        "      }\n",
        "\n",
        "      cout << \"\\n\" << \"Maximum pairwise product is: \" << MaxPairwiseProduct(nums) << endl;\n",
        "\n",
        "    }\n",
        "    return 0;\n",
        "}"
      ],
      "execution_count": 26,
      "outputs": [
        {
          "output_type": "stream",
          "name": "stdout",
          "text": [
            "Writing max_pairwise_product_long_test3.cpp\n"
          ]
        }
      ]
    },
    {
      "cell_type": "code",
      "source": [
        "!g++ max_pairwise_product_long_test3.cpp -o max_pairwise_product_long_test3\n",
        "!./max_pairwise_product_long_test3"
      ],
      "metadata": {
        "colab": {
          "base_uri": "https://localhost:8080/"
        },
        "id": "y59ZxnIWsBUg",
        "outputId": "fd37e401-7a38-4a5a-ffb1-91a84f67cbd9"
      },
      "execution_count": 27,
      "outputs": [
        {
          "output_type": "stream",
          "name": "stdout",
          "text": [
            "Test 0: 306205571 857664593 \n",
            "Maximum pairwise product is: 262621676426047603\n",
            "Test 1: 1067515743 1146574761 864553476 \n",
            "Maximum pairwise product is: 1223986607893962423\n",
            "Test 2: 1432435785 1726861411 723959102 313496466 1619505682 2074304119 1644250831 1847457565 267967947 1026899126 141058419 1690625105 2021002842 1222845285 \n",
            "Maximum pairwise product is: 4192174519671306198\n",
            "Test 3: 449834480 1026746445 2027764429 2069250680 1796984823 1687093130 1549207592 1966250482 1357998383 1855413162 676431426 261293947 775445256 \n",
            "Maximum pairwise product is: 4195952923588061720\n",
            "Test 4: 1125847422 1036872938 1107958322 705225184 1760832039 1421454788 177247217 1687652510 918221970 2024704781 1955620456 1945121095 18279551 1498761912 1818640288 1241124835 1015803086 120991119 120387632 896083866 \n",
            "Maximum pairwise product is: 3959554087084600136\n",
            "Test 5: 1917372454 435693347 1591965742 1736139287 1793691729 1299895256 265087064 2054985675 2075340511 2088093249 1033349448 964729800 1048567923 1738574631 578078191 322539062 1915821848 118247052 1240761031 1793042980 \n",
            "Maximum pairwise product is: 4333504510395310239\n",
            "Test 6: 1038398477 1811322531 1425145770 709555117 904963717 293465208 830546235 1025351348 1189549073 \n",
            "Maximum pairwise product is: 2581398643160343870\n",
            "Test 7: 795240153 1625242420 317786479 383895791 1271450500 1617681734 648982854 1178952527 1545538596 589592455 64818326 362784748 1638160377 1803392957 \n",
            "Maximum pairwise product is: 2954246886318264789\n",
            "Test 8: 1960699438 1571731156 1059109989 1053976820 1217290487 985493847 2092375296 881129369 263155968 654446764 1786093086 556621175 1484992999 663960785 1746170248 210813735 1459200938 1223929019 528600213 1843096728 \n",
            "Maximum pairwise product is: 4102519066952283648\n",
            "Test 9: 2146281946 344595934 1526848396 1544336894 934188388 1591666722 1907121641 424865116 1247576030 700500930 238080905 671823537 1759610918 1292057724 1889114023 597621116 1236949371 622759744 860777083 \n",
            "Maximum pairwise product is: 4093220746904193386\n",
            "Test 10: 261369181 1417398258 1228905485 925329965 1016084857 1439719219 237047254 92530227 1968319432 2080143982 440426096 1967117729 277256267 1967274492 1363970974 1211444654 1411457565 1123608966 1636309769 511549946 \n",
            "Maximum pairwise product is: 4094387821128458224\n",
            "Test 11: 1874390673 1183373482 1436237164 1018964748 925003856 2033858279 108430470 1547763599 747151714 1999826604 1809132779 17066323 1081248440 586979096 1033151179 373484011 824026349 1125681405 194319794 \n",
            "Maximum pairwise product is: 4067363895109854516\n",
            "Test 12: 1566107500 13953874 1033942948 1385898343 1377924848 97903953 649872259 354050165 1734213721 1161422204 30676412 1461120745 197312037 1466913575 332601844 1122315893 1353288206 \n",
            "Maximum pairwise product is: 2715965115061007500\n",
            "Test 13: 522595843 2100439919 \n",
            "Maximum pairwise product is: 1097681170140656717\n",
            "Test 14: 184244974 2117506241 1374623709 771224069 1003173771 1748107719 1595250417 2128855175 1942427512 204453451 1547479026 1956381385 1238396398 \n",
            "Maximum pairwise product is: 4507864119247647175\n",
            "Test 15: 1186822584 1336300351 1435765979 1540872749 923030423 449704535 1571549160 236667520 647016571 \n",
            "Maximum pairwise product is: 2421557274357840840\n",
            "Test 16: 569269363 1769332463 96783643 \n",
            "Maximum pairwise product is: 1007226764147231069\n",
            "Test 17: 144444658 49739913 1303676945 328689631 19762505 530817005 1099913699 1022936275 131441075 \n",
            "Maximum pairwise product is: 1433932130875969555\n",
            "Test 18: 1004307801 2073868586 752133917 404303179 1882766322 1990530315 1190196899 922105258 1179347017 478479229 315494358 2102377439 928183763 1887043517 191561310 \n",
            "Maximum pairwise product is: 4360054526657231254\n",
            "Test 19: 630538954 760830673 1197049148 727322597 1771132348 1341493805 777062509 927325644 1670183435 796825014 1458142648 622613485 1819761288 1589583722 1170293952 \n",
            "Maximum pairwise product is: 3223038082814944224\n"
          ]
        }
      ]
    },
    {
      "cell_type": "markdown",
      "metadata": {
        "id": "9z9yr5QkeyJF"
      },
      "source": [
        "### Test 4  time test  measure the execution time running with the the largest worst case file (200000 increasing numbers, 200000 and 200000 the end) "
      ]
    },
    {
      "cell_type": "code",
      "metadata": {
        "id": "oLiMjbAIfPlX",
        "colab": {
          "base_uri": "https://localhost:8080/"
        },
        "outputId": "34251610-7285-4cbd-bf10-65eefbf0be09"
      },
      "source": [
        "%%writefile Test2Write.cpp\n",
        "#include <iostream>\n",
        "#include <fstream>\n",
        "#include <cstdlib>\n",
        "\n",
        "using namespace std;\n",
        "\n",
        "int main() {\n",
        "  // Create and open a text file\n",
        "  ofstream MyFile(\"input3.txt\");\n",
        "\n",
        " MyFile << 200000 <<\"\\n\";  // n \n",
        " for (int i=1; i < 200001; i++){\n",
        "     MyFile << i <<\" \";\n",
        " }\n",
        "  \n",
        "  // Close the file\n",
        "  MyFile.close();\n",
        "}"
      ],
      "execution_count": 28,
      "outputs": [
        {
          "output_type": "stream",
          "name": "stdout",
          "text": [
            "Writing Test2Write.cpp\n"
          ]
        }
      ]
    },
    {
      "cell_type": "code",
      "metadata": {
        "id": "EH25TkOkZfD9"
      },
      "source": [
        "!g++ Test2Write.cpp -o Test2Write\n",
        "!./Test2Write"
      ],
      "execution_count": 29,
      "outputs": []
    },
    {
      "cell_type": "markdown",
      "metadata": {
        "id": "JB6f03qO-lj9"
      },
      "source": [
        "Measure time\n",
        "\n",
        "https://askubuntu.com/questions/53444/how-can-i-measure-the-execution-time-of-a-terminal-process"
      ]
    },
    {
      "cell_type": "code",
      "source": [
        "%%writefile input3.txt\n",
        "5\n",
        "764543 8734578453 78347834 3432984 8387832"
      ],
      "metadata": {
        "colab": {
          "base_uri": "https://localhost:8080/"
        },
        "id": "IWNKceb49ci9",
        "outputId": "ef0eee5d-5bc8-4cbb-9178-0488f2004a8d"
      },
      "execution_count": 30,
      "outputs": [
        {
          "output_type": "stream",
          "name": "stdout",
          "text": [
            "Overwriting input3.txt\n"
          ]
        }
      ]
    },
    {
      "cell_type": "code",
      "metadata": {
        "colab": {
          "base_uri": "https://localhost:8080/"
        },
        "id": "6p2QLEr576zk",
        "outputId": "21769459-567c-46ba-c644-113c7931c327"
      },
      "source": [
        "!g++ max_pairwise_product_long.cpp -o max_pairwise_product_long\n",
        "!time ./max_pairwise_product_long < input3.txt"
      ],
      "execution_count": 31,
      "outputs": [
        {
          "output_type": "stream",
          "name": "stdout",
          "text": [
            "1641843589928321\n",
            "\n",
            "real\t0m0.002s\n",
            "user\t0m0.002s\n",
            "sys\t0m0.000s\n"
          ]
        }
      ]
    },
    {
      "cell_type": "markdown",
      "metadata": {
        "id": "AmZeB2wYjxy5"
      },
      "source": [
        "##### Calculate  the number of instructions executed by the algorithm as a function of n, add in each line a comment with the number of instructions that are executed in that line \n",
        "\n",
        "```cpp\n",
        " int main() {                         //N inst exec by line executed  \n",
        "   \n",
        "    int n;                            //1                      \n",
        "    std::cin >> n;                    //1\n",
        "                                              \n",
        "    std::vector<int> numbers(n);      //n    init vector\n",
        "    .\n",
        "    .\n",
        " }\n",
        "\n",
        "```"
      ]
    },
    {
      "cell_type": "code",
      "metadata": {
        "colab": {
          "base_uri": "https://localhost:8080/"
        },
        "id": "djGX3FL13g9b",
        "outputId": "f33c1c45-79e9-46cf-a8b8-fe263e455738"
      },
      "source": [
        "%%writefile test_init_vectors.cpp\n",
        "#include <iostream>\n",
        "#include <vector>\n",
        "#include <algorithm>\n",
        "using namespace std;\n",
        "\n",
        "int main() {                                                               \n",
        "    int n = 10;                                                                                                                            //1\n",
        "    vector<int> numbers(n);                                            \n",
        "    for (int i = 0; i < n; ++i) {                                           \n",
        "        cout << numbers[i];                                             \n",
        "    }\n",
        "\n",
        "    cout << \"\\n\";                       \n",
        "    return 0;                                                              \n",
        "}  "
      ],
      "execution_count": 32,
      "outputs": [
        {
          "output_type": "stream",
          "name": "stdout",
          "text": [
            "Writing test_init_vectors.cpp\n"
          ]
        }
      ]
    },
    {
      "cell_type": "code",
      "metadata": {
        "colab": {
          "base_uri": "https://localhost:8080/"
        },
        "id": "44gZcuE237-1",
        "outputId": "7bfeb464-93ce-4662-bbfa-575aa7d8108b"
      },
      "source": [
        "!g++ test_init_vectors.cpp -o test_init_vectors\n",
        "!./test_init_vectors"
      ],
      "execution_count": 33,
      "outputs": [
        {
          "output_type": "stream",
          "name": "stdout",
          "text": [
            "0000000000\n"
          ]
        }
      ]
    },
    {
      "cell_type": "code",
      "metadata": {
        "colab": {
          "base_uri": "https://localhost:8080/"
        },
        "id": "uG6Mv-Pwlkii",
        "outputId": "5d886850-2bad-48fc-ae45-503bc070c01f"
      },
      "source": [
        "%%writefile max_pairwise_product_long.cpp\n",
        "#include <iostream>\n",
        "#include <vector>\n",
        "#include <algorithm>\n",
        "using namespace std;\n",
        "\n",
        "long long MaxPairwiseProduct(const vector<int>& numbers) {                   \n",
        "    long long max_product = 0LL;                                                                                 \n",
        "\t  long long aux_product = 0LL;                                              \n",
        "    int n = numbers.size();                                                   \n",
        "                                                                             \n",
        "    for (int first = 0; first < n; ++first) {                                \n",
        "        for (int second = first + 1; second < n; ++second) {                 \n",
        "\t\t\t       aux_product =  (long long) numbers[first] * numbers[second];    \n",
        "            if (max_product < aux_product)  {                               \n",
        "\t\t\t\t        max_product = aux_product;                                   \n",
        "             }\n",
        "        }\n",
        "    }\n",
        "                                                                            \n",
        "    return max_product;                                                    \n",
        "}\n",
        "\n",
        "int main() {                                              \n",
        "    int n;                                               \n",
        "    cin >> n;                                             \n",
        "    vector<int> numbers(n);                               \n",
        "    for (int i = 0; i < n; ++i) {                       \n",
        "        cin >> numbers[i];                                \n",
        "    }\n",
        "\n",
        "    cout << MaxPairwiseProduct(numbers) << \"\\n\";    \n",
        "    return 0;                                           \n",
        "}                                                      \n"
      ],
      "execution_count": 34,
      "outputs": [
        {
          "output_type": "stream",
          "name": "stdout",
          "text": [
            "Overwriting max_pairwise_product_long.cpp\n"
          ]
        }
      ]
    },
    {
      "cell_type": "markdown",
      "metadata": {
        "id": "0vTsUg8OwcHs"
      },
      "source": [
        "Count executed intructions in code and verify with inputs 1, 2 and 3"
      ]
    },
    {
      "cell_type": "code",
      "metadata": {
        "colab": {
          "base_uri": "https://localhost:8080/"
        },
        "id": "CuRKkqQc137V",
        "outputId": "6f27ea79-d118-4f51-e66c-e6af16943fba"
      },
      "source": [
        "%%writefile max_pairwise_product_long_execints.cpp\n",
        "#include <iostream>\n",
        "#include <vector>\n",
        "#include <algorithm>\n",
        "using namespace std;\n",
        "\n",
        "long long MaxPairwiseProduct(const vector<long long>& numbers, long long &execints) {            \n",
        "    long long m = 0LL;                                                      \n",
        "    long long max_product = 0LL;                                             \n",
        "    execints++;\n",
        "\n",
        "\t  long long aux_product = 0LL;                                             \n",
        "    execints++;\n",
        "\n",
        "    int n = numbers.size();                                                 \n",
        "    execints++;\n",
        "\n",
        "    execints++;                                                                         \n",
        "    for (int first = 0; first < n; ++first) {                               \n",
        "        execints += 2;\n",
        "\n",
        "        long long m = 0LL;\n",
        "\n",
        "        execints++;                                    \n",
        "        for (int second = first + 1; second < n; ++second) {                 \n",
        "            execints += 2;                                                \n",
        "\n",
        "\t\t\t      aux_product =  (long long) numbers[first] * numbers[second];    \n",
        "            execints++; \n",
        "\n",
        "            execints++; \n",
        "            if ( max_product < aux_product)  {                               \n",
        "                       \n",
        "\t\t\t\t        max_product = aux_product;                                   \n",
        "                execints++; \n",
        "                m++;\n",
        "             }\n",
        "        }\n",
        "        if ( (first <= 10) || (n- first <= 10)) cout << m << \"\\n\";\n",
        "    }\n",
        "                                                                            \n",
        "    return max_product;                                                    \n",
        "}\n",
        "\n",
        "int main() {                                               \n",
        "    long long execints = 0LL;\n",
        "\n",
        "    int n;                                                  \n",
        "    execints++;                                                              \n",
        "    \n",
        "    cin >> n;                                              \n",
        "    execints++;\n",
        "\n",
        "    vector<long long> numbers(n);                           \n",
        "    execints += n;\n",
        "    \n",
        "    execints++;\n",
        "    for (int i = 0; i < n; ++i) {                            \n",
        "        execints += 2;\n",
        "\n",
        "        cin >> numbers[i];\n",
        "        execints++;                                         \n",
        "    }\n",
        "    \n",
        "    //cout << MaxPairwiseProduct(numbers) << \"\\n\";          \n",
        "\n",
        "    execints++;\n",
        "    int M = MaxPairwiseProduct(numbers,execints);\n",
        "\n",
        "    execints++;\n",
        "    cout <<  execints << \"\\n\";                       \n",
        "    return 0;                                                \n",
        "}                                                            "
      ],
      "execution_count": 35,
      "outputs": [
        {
          "output_type": "stream",
          "name": "stdout",
          "text": [
            "Writing max_pairwise_product_long_execints.cpp\n"
          ]
        }
      ]
    },
    {
      "cell_type": "code",
      "metadata": {
        "colab": {
          "base_uri": "https://localhost:8080/"
        },
        "id": "Kuvm1C05ly2a",
        "outputId": "e5eadc03-ffed-46b4-eb4c-5ac11d1ac153"
      },
      "source": [
        "!g++ max_pairwise_product_long_execints.cpp -o max_pairwise_product_long_execints\n",
        "!./max_pairwise_product_long_execints < input1.txt\n",
        "!./max_pairwise_product_long_execints < input2.txt\n",
        "!./max_pairwise_product_long_execints < input3.txt"
      ],
      "execution_count": 36,
      "outputs": [
        {
          "output_type": "stream",
          "name": "stdout",
          "text": [
            "9\n",
            "5\n",
            "4\n",
            "3\n",
            "2\n",
            "2\n",
            "2\n",
            "2\n",
            "1\n",
            "0\n",
            "289\n",
            "2\n",
            "1\n",
            "2\n",
            "0\n",
            "0\n",
            "0\n",
            "116\n",
            "1\n",
            "1\n",
            "0\n",
            "0\n",
            "0\n",
            "86\n"
          ]
        }
      ]
    },
    {
      "cell_type": "markdown",
      "metadata": {
        "id": "L_uaamxeAHK7"
      },
      "source": [
        "The number of instructions executed by the algooirithm with a list of size $n$ is  \n",
        "\n",
        "$$T = 9 + 7n + [2(n-1)n, 2.5 (n-1)n]$$\n",
        "\n",
        "It depends on the size of the lists and  the order of the list.\n",
        "\n",
        "For the input1.txt \n",
        "```\n",
        "10\n",
        "1 2 3 4 5 6 7 8 9 10\n",
        "```\n",
        "$$T = 9 + 7(10) + 2(9)(10) +  9 + 5 + 4 + 3 + 2 + 2 + 2 + 2 + 1 + 0  = 289 $$\n",
        "\n",
        "For the input2.txt \n",
        "```\n",
        "6\n",
        "1 3 200000 9 200000 23\n",
        "```\n",
        "$$T = 9 + 7(6) + 2(5)(6)  +  2 + 1 + 2 + 0 + 0 + 0 = 116 $$\n",
        "\n",
        "\n",
        "For the input3.txt that is the worst case (n=200000 and list in incresing order)\n",
        "\n",
        "```\n",
        "200000\n",
        "1 2 3 4 5 6 7 8 9 10 ... 199998 199999 200000\n",
        "```\n",
        "\n",
        "$$\n",
        "\\begin{array}{ll}\n",
        "T &= 9 + 7(200000) + (2)(199999)(200000)  + (199999 +\n",
        "100000 + 66667 +50000 \\cdots 2 + 2 + 1)\\\\\n",
        "&= 80003672077  \\\\\n",
        "  &< 9 + 7(200000) + (2.5)(199999)(200000) \\\\\n",
        "  & = 100000900009\n",
        "\\end{array}\n",
        "  $$"
      ]
    },
    {
      "cell_type": "markdown",
      "metadata": {
        "id": "NXW7QkoBL6xH"
      },
      "source": [
        "Calculate estimated time by instruction and number of instructions by second"
      ]
    },
    {
      "cell_type": "code",
      "metadata": {
        "colab": {
          "base_uri": "https://localhost:8080/"
        },
        "id": "pKqB3i7dIxnc",
        "outputId": "b32c296d-72ed-4da2-dee5-6c191d833d13"
      },
      "source": [
        "# Estimated time by instruction\n",
        "\n",
        "128/80003672077 \n"
      ],
      "execution_count": 37,
      "outputs": [
        {
          "output_type": "execute_result",
          "data": {
            "text/plain": [
              "1.5999265618308827e-09"
            ]
          },
          "metadata": {},
          "execution_count": 37
        }
      ]
    },
    {
      "cell_type": "code",
      "metadata": {
        "colab": {
          "base_uri": "https://localhost:8080/"
        },
        "id": "18N1ouqeMhE1",
        "outputId": "ea0373a1-2948-4e9c-9f1f-e3c382fcdeb8"
      },
      "source": [
        "# Estimated number of instructions by second\n",
        "\n",
        "1/(128/80003672077) "
      ],
      "execution_count": 38,
      "outputs": [
        {
          "output_type": "execute_result",
          "data": {
            "text/plain": [
              "625028688.1015625"
            ]
          },
          "metadata": {},
          "execution_count": 38
        }
      ]
    },
    {
      "cell_type": "markdown",
      "metadata": {
        "id": "CQufozXLNJwO"
      },
      "source": [
        "### Efficient solution"
      ]
    },
    {
      "cell_type": "markdown",
      "metadata": {
        "id": "nLcKBwbU0QsE"
      },
      "source": [
        "Add in each line a coment with the number of instruction that are executed in that line"
      ]
    },
    {
      "cell_type": "code",
      "metadata": {
        "id": "knls5Fh3NSt_",
        "colab": {
          "base_uri": "https://localhost:8080/"
        },
        "outputId": "6d387715-51c3-452d-979e-393247b0d527"
      },
      "source": [
        "%%writefile maximum_pairwise_product_Efficient.cpp\n",
        "#include <iostream>\n",
        "#include <vector>\n",
        "#include <algorithm>\n",
        "using namespace std;\n",
        "\n",
        "int EfficientMaximumPairwiseProduct(int n, vector<long long> nums){\n",
        "    int maxn = 0;                                                               \n",
        "    int smaxn = 0;                                                              \n",
        "    for(int i = 0; i < n; i++){                                                 \n",
        "      if(nums[i] > maxn){                                                       \n",
        "        smaxn = maxn;                                                           \n",
        "        maxn = nums[i];                                                         \n",
        "      }else if(nums[i] > smaxn){                                                \n",
        "        smaxn = nums[i];                                                        \n",
        "      }\n",
        "    }\n",
        "    return smaxn*maxn;                                                          \n",
        "}                                                                               \n",
        "\n",
        "int main () {\n",
        "    int n;\n",
        "    cin >> n;\n",
        "    vector<long long> nums(n);\n",
        "    for(int i = 0; i < n; i++){\n",
        "        cin >> nums[i];\n",
        "    }\n",
        "\n",
        "    cout << \"Maximum pairwise product is: \" << EfficientMaximumPairwiseProduct(n, nums) << endl;\n",
        "}"
      ],
      "execution_count": 39,
      "outputs": [
        {
          "output_type": "stream",
          "name": "stdout",
          "text": [
            "Writing maximum_pairwise_product_Efficient.cpp\n"
          ]
        }
      ]
    },
    {
      "cell_type": "markdown",
      "metadata": {
        "id": "-JCijbWxNSii"
      },
      "source": [
        "Test with inputs 1 and 2\n",
        "\n"
      ]
    },
    {
      "cell_type": "code",
      "metadata": {
        "id": "TrTGAfqlNVXT",
        "colab": {
          "base_uri": "https://localhost:8080/"
        },
        "outputId": "22227d8a-93bb-4291-de37-7ccfa0fb68da"
      },
      "source": [
        "!g++ maximum_pairwise_product_Efficient.cpp -o maximum_pairwise_product_Efficient\n",
        "!time ./maximum_pairwise_product_Efficient < input1.txt\n",
        "\n",
        "!g++ maximum_pairwise_product_Efficient.cpp -o maximum_pairwise_product_Efficient\n",
        "!time ./maximum_pairwise_product_Efficient < input2.txt\n",
        "     "
      ],
      "execution_count": 40,
      "outputs": [
        {
          "output_type": "stream",
          "name": "stdout",
          "text": [
            "Maximum pairwise product is: 90\n",
            "\n",
            "real\t0m0.003s\n",
            "user\t0m0.001s\n",
            "sys\t0m0.001s\n",
            "Maximum pairwise product is: 1345294336\n",
            "\n",
            "real\t0m0.002s\n",
            "user\t0m0.000s\n",
            "sys\t0m0.002s\n"
          ]
        }
      ]
    },
    {
      "cell_type": "markdown",
      "metadata": {
        "id": "PRX51wADNR8b"
      },
      "source": [
        "Test and time it with input 3"
      ]
    },
    {
      "cell_type": "code",
      "metadata": {
        "id": "v4z7-Is_NRt7",
        "colab": {
          "base_uri": "https://localhost:8080/"
        },
        "outputId": "c2007ee4-3176-4d3d-e054-dcb93b97199b"
      },
      "source": [
        "!g++ maximum_pairwise_product_Efficient.cpp -o maximum_pairwise_product_Efficient\n",
        "!time ./maximum_pairwise_product_Efficient < input3.txt"
      ],
      "execution_count": 42,
      "outputs": [
        {
          "output_type": "stream",
          "name": "stdout",
          "text": [
            "Maximum pairwise product is: 7246018\n",
            "\n",
            "real\t0m0.002s\n",
            "user\t0m0.002s\n",
            "sys\t0m0.000s\n"
          ]
        }
      ]
    },
    {
      "cell_type": "markdown",
      "metadata": {
        "id": "rpdfs0_TNZJf"
      },
      "source": [
        "**20 stress tests**"
      ]
    },
    {
      "cell_type": "code",
      "metadata": {
        "id": "Lu4tYcKzNcTT",
        "colab": {
          "base_uri": "https://localhost:8080/"
        },
        "outputId": "c09e57ef-6b12-472c-b37c-a2c18dc5c505"
      },
      "source": [
        "%%writefile maximum_pairwise_product_Efficient_stress.cpp\n",
        "#include <iostream>\n",
        "#include <vector>\n",
        "#include <algorithm>\n",
        "#include <climits>\n",
        "using namespace std;\n",
        "\n",
        "int EfficientMaximumPairwiseProduct(int n, vector<long long> nums){\n",
        "    int maxn = 0;                                                               \n",
        "    int smaxn = 0;                                                              \n",
        "    for(int i = 0; i < n; i++){                                                 \n",
        "      if(nums[i] > maxn){                                                       \n",
        "        smaxn = maxn;                                                           \n",
        "        maxn = nums[i];                                                         \n",
        "      }else if(nums[i] > smaxn){                                                \n",
        "        smaxn = nums[i];                                                        \n",
        "      }\n",
        "    }\n",
        "    return smaxn*maxn;                                                          \n",
        "}                                                                               \n",
        "\n",
        "int main() {\n",
        "    srand(time(NULL));\n",
        "\n",
        "    for(int i = 0; i < 20; i++){\n",
        "      int n = rand() % 19 + 2;\n",
        "      vector<long long> nums(n);\n",
        "\n",
        "      for(int j = 0; j < n; j++){\n",
        "        nums[j] = rand() % LLONG_MAX + 1;\n",
        "      }\n",
        "\n",
        "      cout << \"Test \" << i << \": \";\n",
        "      for(int j = 0; j < n; j++){\n",
        "        cout << nums[j] << \" \";\n",
        "      }\n",
        "\n",
        "      cout << \"\\n\" << \"Maximum pairwise product is: \" << EfficientMaximumPairwiseProduct(n, nums) << endl;\n",
        "\n",
        "    }\n",
        "    return 0;\n",
        "}"
      ],
      "execution_count": 43,
      "outputs": [
        {
          "output_type": "stream",
          "name": "stdout",
          "text": [
            "Writing maximum_pairwise_product_Efficient_stress.cpp\n"
          ]
        }
      ]
    },
    {
      "cell_type": "code",
      "metadata": {
        "id": "dh85RM8vNhFz",
        "colab": {
          "base_uri": "https://localhost:8080/"
        },
        "outputId": "ba603f3f-e605-45bf-e40e-a4c01650af08"
      },
      "source": [
        "!g++ maximum_pairwise_product_Efficient_stress.cpp -o maximum_pairwise_product_Efficient_stress\n",
        "!time ./maximum_pairwise_product_Efficient_stress"
      ],
      "execution_count": 44,
      "outputs": [
        {
          "output_type": "stream",
          "name": "stdout",
          "text": [
            "Test 0: 744376921 103706370 891611760 1792427319 292599912 755868434 1939624882 1103997290 \n",
            "Maximum pairwise product is: -1544489666\n",
            "Test 1: 1412224175 674746116 1236589920 \n",
            "Maximum pairwise product is: -1233726304\n",
            "Test 2: 1533824349 2090922517 266020723 496611784 \n",
            "Maximum pairwise product is: 1193558689\n",
            "Test 3: 2036888075 1459056939 1356710733 2106638039 313446215 1644093621 852462534 1868685607 601119871 1038171356 273837349 1919796022 285004956 1018214270 2023502391 1176616715 663157940 \n",
            "Maximum pairwise product is: 9171261\n",
            "Test 4: 1932485148 455299174 1272615943 2036647576 1867523348 1947362059 1125753847 48105007 1333702759 1069192716 314125729 1830314543 1968864714 203530155 1141887833 1178091798 162684545 1455334047 674701771 1015147079 \n",
            "Maximum pairwise product is: 1206709232\n",
            "Test 5: 1275821641 2053318434 1450373353 1048134015 190839741 321103974 924152757 1367456455 984261914 1092771411 1152457954 1439561087 217903705 \n",
            "Maximum pairwise product is: 840072690\n",
            "Test 6: 1159600786 17782115 19892080 1207705792 1351484874 1089084795 \n",
            "Maximum pairwise product is: -468347008\n",
            "Test 7: 1034315768 910465860 1725361674 28719952 2088557658 1888046218 1484053998 615775780 755709648 513106354 1891597420 661544433 1963479706 792247786 852384173 137100032 \n",
            "Maximum pairwise product is: -427728348\n",
            "Test 8: 72356979 1121361945 661688305 1224814932 413439383 879592009 118953165 1573040168 897374124 138845244 633262311 101375349 1227930038 7610182 \n",
            "Maximum pairwise product is: -919198608\n",
            "Test 9: 2138395897 1732971855 1164411067 2079469906 1473534424 500981416 547762037 81760424 1014087769 291875809 743304856 830083826 1084123594 \n",
            "Maximum pairwise product is: 1060823234\n",
            "Test 10: 967183857 653040488 1668046007 \n",
            "Maximum pairwise product is: -144534713\n",
            "Test 11: 1314728792 745377291 354501535 46837153 864330455 \n",
            "Maximum pairwise product is: -1492314392\n",
            "Test 12: 944211276 1003175698 413320364 1045586624 83622087 420930545 \n",
            "Maximum pairwise product is: 911749504\n",
            "Test 13: 74534335 6418751 1198205157 6520593 1479953175 1699186572 554282629 1561713598 \n",
            "Maximum pairwise product is: 1451711976\n",
            "Test 14: 846158437 157534805 1395874517 1930282031 1753223833 215574726 435838870 1273786192 156636878 1750567662 \n",
            "Maximum pairwise product is: -360346089\n",
            "Test 15: 511138413 1797404814 736010288 291196466 594132441 \n",
            "Maximum pairwise product is: 1592220320\n",
            "Test 16: 704516830 1639719064 1822808071 1125447374 1673513154 1897342405 1131866125 724234662 1903862997 464335651 \n",
            "Maximum pairwise product is: -514416407\n",
            "Test 17: 310661978 2026049248 841728276 1156820414 36100404 90119144 939618796 1789324237 305693869 1375457666 915626780 462330747 978541679 787306613 973469159 628462844 \n",
            "Maximum pairwise product is: 672827744\n",
            "Test 18: 1264665624 1222595284 1115019236 1969182453 714830699 790343658 947146179 240860204 540202414 2079012303 965094865 296581763 395864305 1241032449 \n",
            "Maximum pairwise product is: 788465947\n",
            "Test 19: 274429904 2082760724 1764064153 310530307 25396219 556199301 2099854543 331090088 1931656966 867997674 793420834 762714996 1655304286 1766889992 1391177839 1031137537 884071967 \n",
            "Maximum pairwise product is: 1493751852\n",
            "\n",
            "real\t0m0.004s\n",
            "user\t0m0.001s\n",
            "sys\t0m0.001s\n"
          ]
        }
      ]
    },
    {
      "cell_type": "markdown",
      "metadata": {
        "id": "L8U4151JNbxk"
      },
      "source": [
        "Count executed instructions in code and verify with inputs 1,2 and 3\n"
      ]
    },
    {
      "cell_type": "code",
      "source": [
        "%%writefile maximum_pairwise_product_exec_Efficient.cpp\n",
        "#include <iostream>\n",
        "#include <vector>\n",
        "#include <algorithm>\n",
        "using namespace std;\n",
        "\n",
        "int EfficientMaximumPairwiseProduct(int n, vector<long long> nums){\n",
        "    int maxn = 0;                                                               \n",
        "    int smaxn = 0;                                                              \n",
        "    for(int i = 0; i < n; i++){                                                 \n",
        "      if(nums[i] > maxn){                                                       \n",
        "        smaxn = maxn;                                                           \n",
        "        maxn = nums[i];                                                         \n",
        "      }else if(nums[i] > smaxn){                                                \n",
        "        smaxn = nums[i];                                                        \n",
        "      }\n",
        "    }\n",
        "    return smaxn*maxn;                                                          \n",
        "}                                                                               \n",
        "\n",
        "int main () {\n",
        "    int n;\n",
        "    cin >> n;\n",
        "    vector<long long> nums(n);\n",
        "    for(int i = 0; i < n; i++){\n",
        "        cin >> nums[i];\n",
        "    }\n",
        "\n",
        "    cout << \"\\n\" << \"Instruction number: \" << 6*n+3 << endl;\n",
        "    cout << \"Maximum pairwise product is: \" << EfficientMaximumPairwiseProduct(n, nums) << endl;\n",
        "}"
      ],
      "metadata": {
        "colab": {
          "base_uri": "https://localhost:8080/"
        },
        "id": "BHM0mw1oRQJT",
        "outputId": "44316aea-4fc8-44ba-ffe5-3012abdf6d90"
      },
      "execution_count": 45,
      "outputs": [
        {
          "output_type": "stream",
          "name": "stdout",
          "text": [
            "Writing maximum_pairwise_product_exec_Efficient.cpp\n"
          ]
        }
      ]
    },
    {
      "cell_type": "code",
      "source": [
        "!g++ maximum_pairwise_product_exec_Efficient.cpp -o maximum_pairwise_product_exec_Efficient\n",
        "!time ./maximum_pairwise_product_exec_Efficient < input1.txt\n",
        "\n",
        "!g++ maximum_pairwise_product_exec_Efficient.cpp -o maximum_pairwise_product_exec_Efficient\n",
        "!time ./maximum_pairwise_product_exec_Efficient < input2.txt\n",
        "\n",
        "!g++ maximum_pairwise_product_exec_Efficient.cpp -o maximum_pairwise_product_exec_Efficient\n",
        "!time ./maximum_pairwise_product_exec_Efficient < input3.txt"
      ],
      "metadata": {
        "colab": {
          "base_uri": "https://localhost:8080/"
        },
        "id": "YSvli0D_Rsw1",
        "outputId": "75811b06-e117-424c-c127-77285f876de8"
      },
      "execution_count": 46,
      "outputs": [
        {
          "output_type": "stream",
          "name": "stdout",
          "text": [
            "\n",
            "Instruction number: 63\n",
            "Maximum pairwise product is: 90\n",
            "\n",
            "real\t0m0.001s\n",
            "user\t0m0.001s\n",
            "sys\t0m0.000s\n",
            "\n",
            "Instruction number: 39\n",
            "Maximum pairwise product is: 1345294336\n",
            "\n",
            "real\t0m0.001s\n",
            "user\t0m0.001s\n",
            "sys\t0m0.000s\n",
            "\n",
            "Instruction number: 33\n",
            "Maximum pairwise product is: 7246018\n",
            "\n",
            "real\t0m0.001s\n",
            "user\t0m0.000s\n",
            "sys\t0m0.001s\n"
          ]
        }
      ]
    },
    {
      "cell_type": "markdown",
      "metadata": {
        "id": "K6ybgCmpNygr"
      },
      "source": [
        "Calculate estimated time by instruction and number of instructions by second"
      ]
    },
    {
      "cell_type": "code",
      "metadata": {
        "id": "kwe3G1O3Nz1w",
        "colab": {
          "base_uri": "https://localhost:8080/"
        },
        "outputId": "a96ec925-dcb6-42eb-b377-7429cea8ca68"
      },
      "source": [
        "0.0064/2800013\n"
      ],
      "execution_count": 48,
      "outputs": [
        {
          "output_type": "execute_result",
          "data": {
            "text/plain": [
              "2.285703673518659e-09"
            ]
          },
          "metadata": {},
          "execution_count": 48
        }
      ]
    },
    {
      "cell_type": "code",
      "source": [
        "1/(0.0064/2800013)"
      ],
      "metadata": {
        "colab": {
          "base_uri": "https://localhost:8080/"
        },
        "id": "Ua5-d1CldvOU",
        "outputId": "0bf32e8e-c5ad-4068-ab67-7a8454c4aa72"
      },
      "execution_count": 49,
      "outputs": [
        {
          "output_type": "execute_result",
          "data": {
            "text/plain": [
              "437502031.24999994"
            ]
          },
          "metadata": {},
          "execution_count": 49
        }
      ]
    },
    {
      "cell_type": "markdown",
      "metadata": {
        "id": "sc9nOLQrfTm0"
      },
      "source": [
        "### Super efficient solution\n",
        "\n",
        "Whitout storing the list in memory and whitout calling a function, add in each line a coment with the number of intstrcution that are executed in that line "
      ]
    },
    {
      "cell_type": "code",
      "metadata": {
        "id": "hBLt_xBQLy8E",
        "colab": {
          "base_uri": "https://localhost:8080/"
        },
        "outputId": "2788fc0c-1c72-4e53-a9c3-ff7ad417ee13"
      },
      "source": [
        "%%writefile max_pairwise_product_superE.cpp\n",
        "#include <iostream>\n",
        "\n",
        "int main() {\n",
        "    int n;                                            \n",
        "    std::cin >> n;                                    \n",
        "\n",
        "    long long max1 = -1, max2 = -1;                         \n",
        "    for (int i = 0; i < n; ++i) {                     \n",
        "        long long num;                                \n",
        "        std::cin >> num;                              \n",
        "\n",
        "        if (num > max1) {                             \n",
        "            max2 = max1;                              \n",
        "            max1 = num;                               \n",
        "        } else if (num > max2) {                       \n",
        "            max2 = num;                               \n",
        "        }\n",
        "    }\n",
        "\n",
        "    long long max_product = max1 * max2;               \n",
        "    std::cout << max_product << std::endl;             \n",
        "\n",
        "    return 0;\n",
        "}\n"
      ],
      "execution_count": 51,
      "outputs": [
        {
          "output_type": "stream",
          "name": "stdout",
          "text": [
            "Writing max_pairwise_product_superE.cpp\n"
          ]
        }
      ]
    },
    {
      "cell_type": "markdown",
      "metadata": {
        "id": "683gc3roHqzb"
      },
      "source": [
        "Test with inputs 1 and 2\n",
        "\n",
        "\n",
        " "
      ]
    },
    {
      "cell_type": "code",
      "metadata": {
        "id": "b7d4LA8OIc2_",
        "colab": {
          "base_uri": "https://localhost:8080/"
        },
        "outputId": "b5987a26-954c-43dc-b89a-fdae22896044"
      },
      "source": [
        "!g++ max_pairwise_product_superE.cpp -o max_pairwise_product_superE\n",
        "!./max_pairwise_product_superE < input1.txt\n",
        "!./max_pairwise_product_superE < input2.txt"
      ],
      "execution_count": 52,
      "outputs": [
        {
          "output_type": "stream",
          "name": "stdout",
          "text": [
            "90\n",
            "40000000000\n"
          ]
        }
      ]
    },
    {
      "cell_type": "markdown",
      "metadata": {
        "id": "36Ugn1odIeJz"
      },
      "source": [
        "Test and time it with input 3"
      ]
    },
    {
      "cell_type": "code",
      "metadata": {
        "id": "jDyMbCnxHqSN",
        "colab": {
          "base_uri": "https://localhost:8080/"
        },
        "outputId": "8a34529f-24b6-46a7-de17-cb12ab73a2f9"
      },
      "source": [
        "!time ./max_pairwise_product_superE < input3.txt"
      ],
      "execution_count": 53,
      "outputs": [
        {
          "output_type": "stream",
          "name": "stdout",
          "text": [
            "684335302695620802\n",
            "\n",
            "real\t0m0.004s\n",
            "user\t0m0.001s\n",
            "sys\t0m0.001s\n"
          ]
        }
      ]
    },
    {
      "cell_type": "markdown",
      "metadata": {
        "id": "bhqiKQG6fjKM"
      },
      "source": [
        "20 stress tests "
      ]
    },
    {
      "cell_type": "code",
      "metadata": {
        "id": "2KsiXKhALzwm",
        "colab": {
          "base_uri": "https://localhost:8080/"
        },
        "outputId": "4cf0eb07-2f54-4883-8cbc-08a28415f770"
      },
      "source": [
        "%%writefile stress_test_superE.cpp\n",
        "#include <iostream>\n",
        "#include <cstdlib>\n",
        "#include <ctime>\n",
        "#include <vector>\n",
        "\n",
        "long long max_pairwise_product(int n, const std::vector<long long>& numbers) {\n",
        "    long long max1 = -1, max2 = -1;\n",
        "    for (int i = 0; i < n; ++i) {\n",
        "        long long num = numbers[i];\n",
        "\n",
        "        if (num > max1) {\n",
        "            max2 = max1;\n",
        "            max1 = num;\n",
        "        } else if (num > max2) {\n",
        "            max2 = num;\n",
        "        }\n",
        "    }\n",
        "\n",
        "    return max1 * max2;\n",
        "}\n",
        "\n",
        "int main() {\n",
        "    const int num_tests = 20;\n",
        "    const int max_n = 11;\n",
        "    const long long max_element = 100;\n",
        "\n",
        "    std::srand(std::time(0));\n",
        "\n",
        "    for (int test = 1; test <= num_tests; ++test) {\n",
        "        int n = std::rand() % max_n + 1;\n",
        "        std::vector<long long> numbers(n);\n",
        "\n",
        "        for (int i = 0; i < n; ++i) {\n",
        "            numbers[i] = std::rand() % max_element;\n",
        "        }\n",
        "\n",
        "        long long max_product = max_pairwise_product(n, numbers);\n",
        "        std::cout << \"Test \" << test << \": Max pairwise product = \" << max_product << std::endl;\n",
        "    }\n",
        "\n",
        "    return 0;\n",
        "}\n"
      ],
      "execution_count": 55,
      "outputs": [
        {
          "output_type": "stream",
          "name": "stdout",
          "text": [
            "Writing stress_test_superE.cpp\n"
          ]
        }
      ]
    },
    {
      "cell_type": "code",
      "metadata": {
        "id": "LF1DHjKXIAsF",
        "colab": {
          "base_uri": "https://localhost:8080/"
        },
        "outputId": "40c157a1-759d-40b7-fde5-6896751f1c75"
      },
      "source": [
        "!g++ stress_test_superE.cpp -o stress_test_superE\n",
        "!./stress_test_superE"
      ],
      "execution_count": 56,
      "outputs": [
        {
          "output_type": "stream",
          "name": "stdout",
          "text": [
            "Test 1: Max pairwise product = 3819\n",
            "Test 2: Max pairwise product = 5183\n",
            "Test 3: Max pairwise product = 957\n",
            "Test 4: Max pairwise product = 7544\n",
            "Test 5: Max pairwise product = 4950\n",
            "Test 6: Max pairwise product = 8645\n",
            "Test 7: Max pairwise product = 6960\n",
            "Test 8: Max pairwise product = 4784\n",
            "Test 9: Max pairwise product = 7569\n",
            "Test 10: Max pairwise product = -83\n",
            "Test 11: Max pairwise product = -44\n",
            "Test 12: Max pairwise product = 2907\n",
            "Test 13: Max pairwise product = 5576\n",
            "Test 14: Max pairwise product = 6612\n",
            "Test 15: Max pairwise product = 7482\n",
            "Test 16: Max pairwise product = 9603\n",
            "Test 17: Max pairwise product = 5589\n",
            "Test 18: Max pairwise product = 6534\n",
            "Test 19: Max pairwise product = 6016\n",
            "Test 20: Max pairwise product = 8730\n"
          ]
        }
      ]
    },
    {
      "cell_type": "markdown",
      "metadata": {
        "id": "fEXj8GHJH5p1"
      },
      "source": [
        "Count executed instructions in code and verify with inputs 1,2 and 3"
      ]
    },
    {
      "cell_type": "code",
      "source": [
        "%%writefile max_pairwise_product_superE.cpp\n",
        "#include <iostream>\n",
        "\n",
        "int main() {\n",
        "    long long execints=0LL;\n",
        "    int n;                                            \n",
        "    execints++;\n",
        "    std::cin >> n;                                    \n",
        "    execints++;\n",
        "\n",
        "    long long max1 = -1, max2 = -1;                      \n",
        "    execints+=2;       \n",
        "    execints++;\n",
        "    for (int i = 0; i < n; ++i) {                     \n",
        "        execints+=2;\n",
        "        long long num;                                \n",
        "        execints++;\n",
        "        std::cin >> num;                              \n",
        "        execints++;\n",
        "        execints++;\n",
        "        if (num > max1) {                             \n",
        "            execints++;\n",
        "            max2 = max1;                              \n",
        "            execints++;\n",
        "            max1 = num;                               \n",
        "            execints++;\n",
        "        } else if (num > max2) {                      \n",
        "            execints++;\n",
        "            max2 = num;                               \n",
        "        }\n",
        "    }\n",
        "\n",
        "    long long max_product = max1 * max2;               \n",
        "    execints++;\n",
        "    std::cout << max_product << std::endl;             \n",
        "    execints+=2;\n",
        "    std::cout << \"instructions executed: \" << execints << \"\\n\";\n",
        "\n",
        "    return 0;\n",
        "}"
      ],
      "metadata": {
        "colab": {
          "base_uri": "https://localhost:8080/"
        },
        "id": "_qc67cVie6qh",
        "outputId": "88ff09aa-344a-42a0-9b81-0cbb3280ab1b"
      },
      "execution_count": 57,
      "outputs": [
        {
          "output_type": "stream",
          "name": "stdout",
          "text": [
            "Overwriting max_pairwise_product_superE.cpp\n"
          ]
        }
      ]
    },
    {
      "cell_type": "code",
      "source": [
        "!g++ max_pairwise_product_superE.cpp -o max_pairwise_product_superE\n",
        "!./max_pairwise_product_superE < input1.txt\n",
        "!./max_pairwise_product_superE < input2.txt\n",
        "!./max_pairwise_product_superE < input3.txt"
      ],
      "metadata": {
        "colab": {
          "base_uri": "https://localhost:8080/"
        },
        "id": "PLaVrvdffGPy",
        "outputId": "c9643ef0-6e64-4e5a-b0e2-bb50fc2fd9a1"
      },
      "execution_count": 58,
      "outputs": [
        {
          "output_type": "stream",
          "name": "stdout",
          "text": [
            "90\n",
            "instructions executed: 88\n",
            "40000000000\n",
            "instructions executed: 49\n",
            "684335302695620802\n",
            "instructions executed: 40\n"
          ]
        }
      ]
    },
    {
      "cell_type": "markdown",
      "metadata": {
        "id": "yae7sSm2IG9U"
      },
      "source": [
        "Calculate estimated time by instruction and number of instructions by second"
      ]
    },
    {
      "cell_type": "code",
      "metadata": {
        "id": "suouY7BYL2dz",
        "colab": {
          "base_uri": "https://localhost:8080/"
        },
        "outputId": "439de874-9e46-41b6-856c-e2f6b24833d2"
      },
      "source": [
        "!time ./max_pairwise_product_superE < input3.txt"
      ],
      "execution_count": 59,
      "outputs": [
        {
          "output_type": "stream",
          "name": "stdout",
          "text": [
            "684335302695620802\n",
            "instructions executed: 40\n",
            "\n",
            "real\t0m0.002s\n",
            "user\t0m0.001s\n",
            "sys\t0m0.001s\n"
          ]
        }
      ]
    },
    {
      "cell_type": "markdown",
      "metadata": {
        "id": "LkVxxlhl9H98"
      },
      "source": [
        "# Codeforces problem https://codeforces.com/contest/1619/problem/A \n",
        "\n",
        "Solve the problem in Colab, submit the solution to Codeforces and add a screenshoot of the submission."
      ]
    },
    {
      "cell_type": "code",
      "source": [
        "%%writefile is.cpp\n",
        "#include <iostream>\n",
        "#include <string>\n",
        "\n",
        "bool is(const std::string& s) {\n",
        "    int x = s.length();\n",
        "    if (x % 2 != 0) {\n",
        "        return false;\n",
        "    }\n",
        "\n",
        "    int raiz = x / 2;\n",
        "    for (int i = 0; i < raiz; ++i) {\n",
        "        if (s[i] != s[raiz + i]) {\n",
        "            return false;\n",
        "        }\n",
        "    }\n",
        "\n",
        "    return true;\n",
        "}\n",
        "\n",
        "int main() {\n",
        "    int aux;\n",
        "    std::cin >> aux;\n",
        "\n",
        "    for (int i = 0; i < aux; ++i) {\n",
        "        std::string s;\n",
        "        std::cin >> s;\n",
        "\n",
        "        if (is(s)) {\n",
        "            std::cout << \"YES\" << std::endl;\n",
        "        } else {\n",
        "            std::cout << \"NO\" << std::endl;\n",
        "        }\n",
        "    }\n",
        "\n",
        "    return 0;\n",
        "}\n"
      ],
      "metadata": {
        "id": "ofgRTq6C1QQr",
        "colab": {
          "base_uri": "https://localhost:8080/"
        },
        "outputId": "ac58d472-65d9-4229-b3b9-c2846eac0f5c"
      },
      "execution_count": 60,
      "outputs": [
        {
          "output_type": "stream",
          "name": "stdout",
          "text": [
            "Writing is.cpp\n"
          ]
        }
      ]
    },
    {
      "cell_type": "code",
      "source": [
        "\n",
        "%%writefile tests.txt\n",
        "10\n",
        "a\n",
        "aa\n",
        "aaa\n",
        "aaaa\n",
        "abab\n",
        "abcabc\n",
        "abacaba\n",
        "xxyy\n",
        "xyyx\n",
        "xyxy"
      ],
      "metadata": {
        "id": "JEgKNKDu1SM3",
        "colab": {
          "base_uri": "https://localhost:8080/"
        },
        "outputId": "40476e66-2252-461b-8cbc-37643238ff7e"
      },
      "execution_count": 61,
      "outputs": [
        {
          "output_type": "stream",
          "name": "stdout",
          "text": [
            "Writing tests.txt\n"
          ]
        }
      ]
    },
    {
      "cell_type": "code",
      "source": [
        "!g++ is.cpp -o is\n",
        "!./is < tests.txt"
      ],
      "metadata": {
        "id": "HOc1vcQB1n8Y",
        "colab": {
          "base_uri": "https://localhost:8080/"
        },
        "outputId": "ae4bd9ba-565c-4333-9bb5-8a273f68e272"
      },
      "execution_count": 62,
      "outputs": [
        {
          "output_type": "stream",
          "name": "stdout",
          "text": [
            "NO\n",
            "YES\n",
            "NO\n",
            "YES\n",
            "YES\n",
            "YES\n",
            "NO\n",
            "NO\n",
            "NO\n",
            "YES\n"
          ]
        }
      ]
    },
    {
      "cell_type": "code",
      "source": [
        "!g++ -v"
      ],
      "metadata": {
        "id": "ZpV1OM_o2N_j",
        "colab": {
          "base_uri": "https://localhost:8080/"
        },
        "outputId": "71dfd79d-c125-480d-82b1-058fbcb803d7"
      },
      "execution_count": 63,
      "outputs": [
        {
          "output_type": "stream",
          "name": "stdout",
          "text": [
            "Using built-in specs.\n",
            "COLLECT_GCC=g++\n",
            "COLLECT_LTO_WRAPPER=/usr/lib/gcc/x86_64-linux-gnu/9/lto-wrapper\n",
            "OFFLOAD_TARGET_NAMES=nvptx-none:hsa\n",
            "OFFLOAD_TARGET_DEFAULT=1\n",
            "Target: x86_64-linux-gnu\n",
            "Configured with: ../src/configure -v --with-pkgversion='Ubuntu 9.4.0-1ubuntu1~20.04.1' --with-bugurl=file:///usr/share/doc/gcc-9/README.Bugs --enable-languages=c,ada,c++,go,brig,d,fortran,objc,obj-c++,gm2 --prefix=/usr --with-gcc-major-version-only --program-suffix=-9 --program-prefix=x86_64-linux-gnu- --enable-shared --enable-linker-build-id --libexecdir=/usr/lib --without-included-gettext --enable-threads=posix --libdir=/usr/lib --enable-nls --enable-clocale=gnu --enable-libstdcxx-debug --enable-libstdcxx-time=yes --with-default-libstdcxx-abi=new --enable-gnu-unique-object --disable-vtable-verify --enable-plugin --enable-default-pie --with-system-zlib --with-target-system-zlib=auto --enable-objc-gc=auto --enable-multiarch --disable-werror --with-arch-32=i686 --with-abi=m64 --with-multilib-list=m32,m64,mx32 --enable-multilib --with-tune=generic --enable-offload-targets=nvptx-none=/build/gcc-9-Av3uEd/gcc-9-9.4.0/debian/tmp-nvptx/usr,hsa --without-cuda-driver --enable-checking=release --build=x86_64-linux-gnu --host=x86_64-linux-gnu --target=x86_64-linux-gnu\n",
            "Thread model: posix\n",
            "gcc version 9.4.0 (Ubuntu 9.4.0-1ubuntu1~20.04.1) \n"
          ]
        }
      ]
    },
    {
      "cell_type": "markdown",
      "source": [
        "**Solution Codeforces Is_squrt**"
      ],
      "metadata": {
        "id": "1ReoajvFKKGl"
      }
    },
    {
      "cell_type": "markdown",
      "source": [
        "![image.png](data:image/png;base64,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)"
      ],
      "metadata": {
        "id": "mfia9oR5KCrI"
      }
    },
    {
      "cell_type": "markdown",
      "source": [
        "![image.png](data:image/png;base64,iVBORw0KGgoAAAANSUhEUgAAAwkAAAKBCAYAAAAcD+eNAAAAAXNSR0IArs4c6QAAAARnQU1BAACxjwv8YQUAAAAJcEhZcwAADsMAAA7DAcdvqGQAAFabSURBVHhe7d27burc9vfx33obbsRSFCHRuOMKkFI4HV0kOjqaJZcpUlqroaOzlI4uFJG4Ajo3SCiKxBXsK/i7el5PH8CTozklIXw/W96LYHyERxrDc8w5//zf//3ffwIAAACA3J///e9/JAkAAAAAFv7EcUySAAAAAGDh/+X/AgAAAECKJAEAAACAhSQBAAAAgIUkAQAAAICFJAEAAACAhSQBAAAAgIUkAQAAAICFJAEAAACAhSQBAAAAgIUkAQAAAICFJAEAAACAhSQBAAAAgIUkAQAAAICFJAEAAACAhSQBAAAAgIUkAQAAAICFJAEAAACAhSQBAAAAgIUkAQAAAIDl4CRh3m+q2Z+bV+o3a+qOs/eXsvdrta7WVp3IHLtWM/s+z/7T/TX7yRl/pcvdHwAAAOAcDk8SPiI17pz8r6/l9CaK41jxqJO/g1Xfk/gAAADgNzmh3Giuj8jV/Vq+4Kg3SQL5eKBW/s6tGndreatL2Q3fn3GXFhQAAIArUD1JSAO8mrxQCj1TLuMpVCS/viyd2V0OVJQnjdVdfKaptRh63ldzsT5ZKj8V31D+ZM55ZXsTuBf7rvtR/u5Sef3xT+Sza/SmgV57yyxqf7lUUYq0/TPW+SVLcb3FvtNrinzVF59Z3uP0M2aD/Ls0y2oSs+/67eOXzs/sM9l3sb47Lq6l9B23Bhp1QnmbvncAAAD8GNWThCTAi+OZAtdVMIsVzwK56mhkyn/yp+JVyoFC70X3Zvvkc6NOkmQ8lQJRE2jWfTVG2fp0mfR0ruImE8B6Gi32PQvcfE1mdf2okQTbhyYKaZLjaRrM1s599/0xQXVdfqN8ftMkoF4G4ibIN4nHLF9vlkHeHFHsO70mt/yZiUp5ivkCVHu5z9Yn32HyBSwC9n3Xb47/9ljs13x/ScBfvj/Jvl/uZ+k5hF5dH8/m9xJp+L68g62BOcfksElyud6fBQAAAD/BgeVGpsSoobRLwvxDkXt/cADfGS2D1tajHSyP30LzgUXge1ZJ8P4SJgnO3207H+ttZX3rb5IIRUOVYtyd0if1eZIzsSLzCubvGkZJ0lW6eKf3nKRhod7KwfQB57NZcowieXHu1FCkj3R/+6/fJCLl72b1+zP7fi6uO0lUtt3qNKFJMoWpt6kcCwAAAN+tcpKQlZGYEiNTLpK8NnVHeVnLeQK9uT6nSZj5uCWyPIs8wdlk/qnponwqX5KAf70gaZu53ofVP73GJF35yyVH96XGDhNcF0/h0/M7phyq81jqC9HSIM5bI6pc/2opmPkNnCjy/62VVAEAAOB7VU4STJlIucQoLWvpZKUpBz8132H6eckny1Pt3n1eSpWX02TLSrnOVnmH5LM+ITctN/nL3KJkyZR+KUnSzlqzs+v6x+omSUPygeW6Y0eZssrK6OAOAADw0xxWbnRkiVE1jh7arqJSjfwxwqI2xzz1Lj/pzktrFvXxSaBqdVx2HtR2I/n/Tgy6nZ4m8UgNv37Yk/7WY1pa5JWC/nHXU7i1bMfRXSN/WeKYN48pSTr4+pOk4YiWhLRFypumychFysoAAABwsgP7JCyZ+RJca/zT0sg8afCYlyUdMJLNWjmNWRaB9r79O+q9BnJNx1zzfv1Dz9aT7pYG2c6z9abzrrXetATMFEzz7YvlmJKevIzHdPx9Wlz8vvM324zUKc4/WdJOyqXOz1nJ13JJ169G2ukIQuWyoar3f9/1t/Q3MElcfv9qL7oPDmxJSBIzLzQtUVVbZwAAAPAd/sRx/F/+GgAAAACOb0kAAAAA8DuRJAAAAACwkCQAAAAAsJAkAAAAALCQJAAAAACwkCQAAAAAsJAkAAAAALAcnCTM+00109m5ssnBShME54pJw7o6ce7iNebYy4m+Tt9/ur+jJkv7yS53/wEAAHAbDk8SPiI17r5nulwzI3Mcx4qtmZJ/l9+ZuAAAAOCanFBuNNdH5Op+LV9w1JskgXw8UCt/51aNu7W81eUrXfD+j7u0UAAAANyA6klCGiDW5IVS6JlyFk+hIvn1ZWnL7nKgojxprO7iM02txdDzvpqL9clS+an6hvInc84r25vAvdh33Y/yd5fK649/op9dozcN9Nqzsyhr/8lSnG9x79JzinzVF59Z3qP0M2aD/LswSzkJOf3+F6VK9rI4RmugUSeUt+l7AwAAwK9RPUlIAsQ4nilwXQWzWPEskKuORqb8J39qXaUcKPRedG+2Tz436iRJxlMpEDfBb91XY5StT5dJT+cqbjIBuqfRYt+zwM3XZFbXjxpJsH5oopAmOZ6mwWzt3E0QbxKHWb5/swzyx/3FvUvPyS1/ZiIrzwg91V7us/XJd5DcwEXAfur9H3fr8hvF9Zvv2pzKTJPSCbQG5hyTwybJ4Xp/FAAAAPwGB5YbmRKjhtIuCfMPRe79wQF8Z7QMeluPdjA7fgvNBxaB81klwftLmCQ4f7ftfKy3lfWtv0kiFA31XjFLSJ/k50lOObC2HLC/zZLErEg+nDs1FOnjgP1tv//m+pP1j8X1O3pou4o27DxNRpJMYep9RzkVAAAALq1ykpCVyZgSI1Nukrw2dUd5Wcx5AsW5PqflIPUS8gRnk/mnpovyqXxJAv71gqRt5nof7v60Ca6Lp/Dp/o8pZ+o8lvoatDSIl60Rp2nJ5AzhW9E8kF2Pu97pxBL5/1bKmgAAAHDtKicJpsykXGKUlsV0stKUrU/NjzD9vOST6al27z4vpUrLbYplpdxnq7zD8J4n7IuSIFPOoyTJ+mk1O6acKU2SstKjjd+tVRZGB3UAAIDf5rByoyNLjKrJy1tKNfbHWDwJN30DTGtHIS/NGRa1Pkmga3Vcdh7UdiP5/04M2p2eJvFIDb++p6XA0V0jf1nimDdPLkk6Rl5uVU6SNjRRpC1K3jT93EXKwgAAAPDtDuyTsGTmS7BLUUoj46TBeV6WdMBIOGvlOFZJzr79O+q9BnKLJ+H1Dz1bHXhbGmQ7z9abzr/WetMSMFMwLZ6k58tRIxxlZUCm4/NT6eJXRzZKOzGvRtrpCELlsqeq9+/U+9/S39V7b5by9SeJlRealqSqrSsAAAC4Rn/iOP4vf41bZlpe6kO1Z+UEwAyXmo3UdM6SMgAAAPxsR7ck4JcxpWT5y4W0M7e+bYZtAAAAfA9aErCQzhNR6sZhdEb0PQAAALg1JAkAAAAALJQbAQAAALCQJAAAAACwkCQAAAAAsJAkAAAAALCQJAAAAACwkCQAAAAAsJAkAAAAALCQJAAAAACwkCQAAAAAsJAkAAAAALCQJAAAAACwkCQAAAAAsJAkAAAAALCQJAAAAACwkCQAAAAAsJAkAAAAALCQJAAAAACwkCQAAAAAsJAkAAAAALCQJAAAAACwkCQAAAAAsJAkHG2sbq2p/jz/E/h25jfZTf5/H/O5mmrJ0uQHDAAANjggSZir36ypuz8COdq830wDl2ypEuxskp3n8dtXYY7haRq8qufkb2FN+n02+8nduiaX/P0sg3OznP+/pZb+BlN5e8593PUUdkaK41gTfsAAAGCDH9WS4PQmaeASjzr5Oz/TvP8kX4Fef2CAdenA/KcH/j/5/MrBufmNh975ExGn96rADeVtzUDm+pxKncdW/jcAAMC6X1hu5Kg3SYKweKCLhEHzvp58KXjtJUfC73Op308WnLv3l/7VJOf/GsgNXyiFAwAARzsiSSjKMTaVTNjr1ks29q0/TZVypXG3fPzDSz7m70NFblsP22K9JIlolvZvP9Xedf3Zuu64XJKy3udh2/kX1173IynyVV985rB+E6fuv7x9+tk1+fVtfdq/e/0p55d+xmww7i62L9fk7/79VPl+Vr/fbMmO4eih7San9i/Zb7IPLzSP8w9ORCr9fp0Htd1Iw/dNdxAAAGC/g5OE0Kvr49k8aY01C9xSyYQJkOryG3k5Rbq+XB+9b/3p9pUrmSDQmwaa5cc3y+DAKG3+EcltP2xuRTDBZ91XY7TcfzwpWhyqXX/oveh+lq0fdSL5T8tgedf5F9duvhO55c9MKvebOHX/JoD1VL6+5LNndJbrDz3VXu6z9bNAyQ1eBPpVyt12fT/jbvn7nSk7ldmi7n9RClTzJPMbOfDHV/33myckH5uShLk+IlcXb9AAAABX7eAkoZMEN8vA7FkdTfVpYpH5u4ZRR6NS1JKtD/VmouB9679KNNTxD1izkpFtxm/m6fBoc+BW8fo7o2VQ23rcEKyedP4VHLv/eV8voavg76aLL2tpYALcRfK0as/6k68/+Q6KfTt3aijSxlh6i+3fz1jp17+o9V8N1E0LRJJEyE3+J03T/2iyVomNrQHbHHL9089FAlMcq1Z70+MBiSMAALhNZ+iTkAdZ84/k1SpH98XD5H3rv4B5Upw+PK7n5Rpn7eC6p0PoGa7/sud/jv03dHfB4PMs12+V+GQJycak7mAtmZwhXGR8c70Po0UfhHn/RaFp4ZhMNBl1FPn1PDmo/lT/tOvPk6/ZvV4OLEEDAAC357QkYf6p6c4gx5Q25C832rf+/EygtSgHka/6QY9x98ueEFd1+PVf+vxP23/eqnRBl77+k5lyJhPAm1aDxmhRamTK1NS4y1owWoMk2Delel6SOOzo37LBQddfHK8s769wSOsJAAC4PSclCeN/vqLOc1a60HpMS2fKQy+mQz66gdIKlH3rv5yju0b+srK8hGT4vuEJbtExdVnjbjn79W8+f8e8eZaSpAP3n5fuLDrLjrsX6bi8dOnrP5QpN3IV5P0V0qXURJGWJpVGHHIe2mnZ0fF2/X7tVgwAAIBDHdFxOS91SJa0k+oiEDLlDCN1Fk9Sk/Wmk+Witnzf+tLIMGbkFxNQp5+rWhqxf/vVkWHS4x9Ya5IGd5Gvfxse4JqnvFY5iFkWwe6+69+v0vm3BlmH2sU5VC8tOW3/yfVlF5+9bzoHn3m+i8te/6m/PzOR2cp3b5bi+09bD0rr60O1Z8nvwYzEVLFsqPLvN+3/4qp9SBMFAABAyZ84jv/LX6MiE6wdGuDjlzND36aBf7lTsGkVMTNzL0c4urxsFK1he9sxs/VmhLID82MAAHBDztBx+fa0Bj+0Hh7fZ1PH9LTPjuka8HWp5P7ZwLMypWUHawAAgHW0JBzNPCU2Y+YznCQyaQuTqVQqKQ8ZfHnmN2mGON03W3TWwmFOtTyPAwAAQIEkAQAAAICFciMAAAAAFpIEAAAAABaSBAAAAAAWkgQAAAAAFpIEAAAAABaSBAAAAAAWkgQAAAAAFpIEAAAAABaSBAAAAAAWkgQAAAAAFpIEAAAAABaSBAAAAAAWkgQAAAAAFpIEAAAAABaSBAAAAAAWkgQAAAAAFpIEAAAAABaSBAAAAAAWkgQAAAAAFpIEAAAAABaSBAAAAAAWkgT8UmN1a0315/mfKfNeN/l/AAAA7HKDScJc/WZNNYLFNfN+M7kv5t78xPuTfW/dSidlPutpGryq5+RvpVr6G0zl8d0DAADsREvCgdJAutlPwtDfx+lNFMex4lEnf+frneP+zvtP8hXo1c4QUk7vVYEbyquWbQAAANykG0wSHPUmSSAcD9TK38EvMu/ryZeC117yTW+SfP+vgdzwZaUUCQAAAIWbShJ2l9MU5Symbr34zLKmvdi27kdS5Ku+4TM7JcFr03y+/AR73E330TxjtDruFueVLed+YG7t33riv/v+ZYpSL3sx11/9/pb3sX7v5+9DRW5bD5szhIzzoLYbafi+6b7n5/9LW4sAAACquKkkoUo5Tei96H5mWhpijTqR/KcsWCy2nQWu5Aaamf2ky2Sl7n0Lp6fJzDzB9vLAPQlGvTDZ1UyTSjsoB9/2UiQCJtD2puVzizU4Y3OJSRA8jRb7HjWSYH4lmN52/4xxty6/UWw/U3Yrs+uven9Dr66P5837N+Yfkdz2w5ZWhIKjh7ar6IM0AAAAYBP6JKzojJZBaevxzLX5SaLwmgTB4Utf/a6nsDOqmCAYLQ0WgbO9WIlANNTGB+QnG+stdBX8XR6s9TdJelaOt/3+me2T9Y/F9scF6p3R8nrXv5+5Pqf5yyqmn1aCkcnv82RbuRIAAMDvR5LwxdKOs/Llhx2NDnrMv78lwTyNnwWSX8/XnbNkZv6pqaLlvs1S95N3qmrJxPThW1H/NNf7MJJ7TygOAADw05AkfLF05J3GSKNOKO+gIL5aS8KipMqU8yTJSP2snRJcBXkp0XKpWG5VCL08ychKj6q3pFxA447WAgAAgA1IEg7k3DWOL+kZd1X3G2kLQmswUify9XTGTss2R+ZU1xQdqA+dKyDv7Ov/OzbpyMuVyknGhpaUk+5vUcI0fN+TfO1qxShabJhLAQAA3K4bShJKo+J4YfJ3KC8NBiuOTlRoDbIOs4uym4rbm5GM0o7Kf/OhV83EXklA69fPNgLR6shGaSfmyiVN++6PGTp2pmBatATkS+XWEHO9pVKobdsfe39zzkNbbpJ87cxl5u8aRq7aG4dAcnTvmn9DLSqjAAAAbsyfOI7/y18Dl2NaMOpDtWfl8iTz1N7MjFx1hKdq0lGYTIK0sfOxSYbqGrZ3HDNP6MqdpAEAAG4J5Ub4GvOP9U7OaWdo0zXgfAmC0Rps74+xazbmTJJEvITpMKylgZwAAABuCi0J+DLpE35TyVRyuaf1ppXCzNmw2nLxpsdts23nLQjpPA0MgQoAAG4YSQIAAAAAC+VGAAAAACwkCQAAAAAsJAkAAAAALCQJRzOdYA+cY+HmmXtWZZIy87lsnoQmNxgAAODL3WCSUEwatiNYXcxKvC1QNfsw4/u/lkbOOVH5mKWhO+f95gETli2D69X9VJffnyNneLMmdFs7bzOh2lTenkRh3PUUdkbprMznnD8BAAAA1dCSsCYJkp98KZilQeqmQHX/WPuHG/8rjjlSJ3zJWiiSxOHJb2hUaTjOLHHRKDvnbD/elz6JX0xilh5/81wFTu9VgRvK25qEzPU5lTqPTFIAAADwXW4wSXDUm5ggdstY+UmQ+hG5aj9sCcvTwD2J518vPY5+lqw0RtvOc1V2Xcs5B1p67EjR8D3Z0yEc3TXylwcZ6y10S/clOZ/n5ASKhGchef81kLv2PgAAAH6Km0oS0tKdRTlOldr4dfP3oSK3rbUcoigXKj8hN5NzJe9VeZrfSiL6yK8nn8/KmB7en+Q3RheaaGw/9/7AFGj8plANLSdPTpIcM3OxIn2sXr7zoLYbafhOlgAAAPAT3VSS4PQmWSnOqJO/U5IH9CZID5PA1q9vTibmH5Hc9kP+tLzE6WkyM0/IPWV5wlhdL5QbzKrV1bcGeZlQrMnDe1ZmdFKGYJ7sJ8H+pnM9ykp/h9KyyIvc++xYacJU18fzTIGbrlnh6KHtKlrLHoysJefQHAUAAADnQ5+EwiJIH6kjV8EsC9jtsqSsXn6rJFF4TaLi8KWvft759vCOt4eWGW2S9U8Ikyt5Plu/iZYGeRKzupRzmbS1pj5UO7l/e3Oc6WdypoUiCXnTYzw5X4dwAAAAHIwk4czSjrny5Yedo1oC0k7RjZH+fi5Lo7b28d1i3K3Lj0yic0qisapCS0Lkyxu2NVsE+aZVIF1TQZ6EzO71wtCyAAAA34ok4cyKIH/UCeVVHro0V4xmNJCywY6SoHnUSVsmqu7HPMn3TAfi2fFP41uDTUOP7mlJcO5lKos6z6UO3fNPTdXR1oGKGncbyray/gobK5EAAADwJUgSDpLX0m8bMWjcVT3vS9AajNSJfD1VfiR+epmRSRDqaXJxSrmOKVWqHTA3Q87pKRvMqNguu56o87jheuZ6H0aHd44GAADAl7ihJCEPfk2JjGdG3QnlpeUyh5W2OA9tuUnw/2+1BMh0fE47Kv/Ng2IzcViSUPj1SuVCaYnQYjQjs62yztPetOJwq2P9801tT7nTdbYcWq50rNYgnxshPW52PfGmkqv5u4a7hpkFAADAt/oTx/F/+WtUtJg0rNIkZ7CZZK2uYXvbqE/Z+o/nCh2fAQAAcBGUGx1h8cT8qx7R/yL7Z6vOJnML37i3AAAA34WWhKOZ0X5edH9S/f+tMffMDHG6r9+F+ZwZwlXV55kAAADA2ZAkAAAAALBQbgQAAADAQpIAAAAAwEKSAAAAAMBCkgAAAADAQpKAn2feV7M0GVyz4mx3Zsbp5SRyXTGIKgAAwHFIEm5MGkg3+zpgkukvNlf/yZeCmeI4TpeqQ6A6vUm2zaiTvwMAAIBjkCTgh5nrI3LVfmBuBAAAgO9CknBF0lYAM8vzuLu1FGfcXZbplFsMilKcuh9Jka968ZlaU9ku5uo3a7ImkTbHWd3H1uMX25uJ0Fb3fT7W9R1RUmRvv3K9iW33bym/vh/dGgMAAHAakoRrE3qqvdxrZspqZoHkPy0CcRPgehotynRGjSQZyIPZohRnFrhmGuNs+3Q5cMboHcc3Qs/MQp0fvxMlqysG04vEw8y0nGxXL4L1ZSJgkpS3x+K8zf5DeQcE62Z7b1q+9liD0tTPu+4fAADALSFJuDodjSY9pXG9c6dGElB/pFHsWG+hq+DvMupt/Q3kRkO9nzXK3Xb8TGe0TDpajwf0DWgN8uB8lBwhuY480YjjgYorMolOOag/aP+Frfej6v1raWDOq7gHAAAAvxBJwrXpPC6C5iJgTQPn+aem1hP4ZKn7yTtntu34X2Fl1KOaF+YrqjFJRtr4UdyjcivBV90/AACAK0CS8KuUn8AXy4HlRD/WWN0kaC+PenTMKEaLEZDimQL5qludEn7z/QMAAKiOJOG3cB7UdiP5/3Z35XXuGjtKbqTwLd/ePLU/8En910qShpPOz5G5FQsV71963LSlgXkYAADA70WS8Gs46k1mCqbeslzGLKsdb1uDrEPxoqymGIEo2f41kGs6Jpv36x96/lHzDbT0N3AV+fX8vF90H5TPLxtdKV2XJg+hPOv6kvB+ZWSjtBPzolaq4v1LPnfvmn9DFfkUAADAb/MnjuP/8tcAqjAjMSWJSGf0hf0xAAAAvhAtCcBB5uq/hOkwsqWBkAAAAH4VkgSgqnQuh7p8BZoxBCoAAPjFKDcCAAAAYKElAQAAAICFJAEAAACAhSQBAAAAgOWmkoR5v5mPf89EWAAAAMA2N9lx2Uyq5WmkmEHuAQAAgDU3WW7UeuxI08+VmXQBAAAAGPRJAAAAAGAhSQAAAABguc0kwbmXGw31Tr0RAAAAsOZGk4SeJvGr9MRIRwAAAMCq20wS5n01a0/Sa6w4HogxjgAAAIClG00SPhS5bT04+d8AAAAAFui4DAAAAMBCkgAAAADAQpIAAAAAwHKTScL4LZQad6JLAgAAALDuppKEeb+pWq0mL+xoNGBMIwAAAGCTP3Ec/5e/BgAAAAD6JAAAAACwkSQAAAAAsJAkAAAAALCQJAAAAACw3GCSMFe/WVOt1tU4f+e6XPv5l4y7K9cxVrdmri1fuld/hQAAAFeJloQDpcOoNvtJqI5Tmfkq3OCvssFoTfLjSaNYcWyWkTqhp2afOw0AAPDVGAL1QCZJqA/bmk16TMZ2inlfzfpQ7dlEvS03ctytyZsG3GsAAIAvdlMtCcVkatmyWq6TlfF0x+WSl6aKB9nFtnU/kiJf9Q2f2SfdhymhSctssu1Xn5SbwLhYt3qOu89/ddt8+apWDxP0m+OVS4Ty69zUGjB/HyrqPG9NELbLvx9acwAAAC7mppIEpzfJSllGnfyddaH3ovtZVvIy6kTyn7JgtNh2FriSG2iWlsSYZfuT8I1CT7WX+2z7WaDkAFYi8vZY7NccP5RXCob3nX9rsNw2LdeRq+C16lP4lf4ApaVS1wCnp0lyPW5yfdnnk/15ppxopsnaDRrrX5JsdR53zXo91luY3Or2A60IAAAAX4w+CSs6o2XQ33rcnkwcr6NRUT7j3KmhSB95FmCSgEEpbj7++EV9/yEJTEuDRYJhL+Vz2ilJFF6TJCp86avf9RR2RhsShMT4TWGSaP3dut/s/MPkXj2vbZ+fJyVIAAAAF0OS8NU6j3lHXSMLeBdBeFGyUyxemK84zLz/JL8xqh7cp05sScg5vVcF8uWHSTK08QSSBOAlCf+ftwf5425dfuQqmA1K9woAAABfhSThx0iC9LqvJDJePsXfURa1VZJoPJmO1YdlCIkztCQkigRltVRqYf6uYdTRtkojU3LlhSZBOLCMCwAAAGdDknAg564hRUO9r0W/55bV9B/GJBpDtSv3QzizcVd1v5G2ILQGI3UiX0+rHbP/mUSoGPbUZhKELE/alSAULR6/YJ4IAACAH+qGkoRs9KK0hCYNvkN5abBZfXSiVGuQdWiu5/s6dPutWvobuIr8er7fF90H5ZaE/ec/Nv0AVD43e/1FmZGM0o7KRQKwvJ5luZLpjOyq/bApA8g6MycZ2Mr5r5Y7Obp3zb+h3sgSAAAALoJ5EvBl0paCj2fFB5dCrcgTks7osFIoAAAAVEOSgC9iyoSyGZVPC+xNi0pdvphkDQAA4FJIEnA98haEdJ4KEgQAAICLIUkAAAAAYGF0IwAAAAAWkgQAAAAAFpIEAAAAABaShIsxo/l80RwFuBHmN1VlErliwrmamvwAAQDAEW4zSZj31SxN1nX+QMoM0+lpGrxumDm4mBTtu2YMPu344+7yvtWa/WRvh7ru67+8XednJqibyttz7umkep2R4jjWZPvU1QAAAFvdYJKQBGFPvhTM0iDqEoHUvP+UjuP/eoEAzUxIdlxwfjqTIHjTQLP0vs2SK/RVt6dDxoU5vVcFbihv632f63MqdR6ZZQ4AABzvBodANaUYL7qfTTY85T8D00pRH6p9of2nsxYP298wT8CG+5bOWzBN8q3LXKtJSl7uZzwNX7XzN2ZaIur6eGY2agAAcDz6JFiKUo9iscs60qf45gmuCY7zz6yWKs3fh4rcth42xLXp9lv2XRy7O17Wk9dKfRqKbet+JEW+6hs+s8/u4+8xflOohu4W15Wc70uY/Bvpwzp+fv4bWjuqHz/bh2m1KLfGVLn/VjnUpu9vyzrD3jZf1q5j+/UVFue5xbb1le+P86C2G2n4vu0MAAAATnM7ScIisPSSYDeSX18NxrInsH4jq+U2y2xT/XfoqfZyn5XczALJf7KC9PlHJLf9sPEpv9ObZPsedfJ31oWeeVqfHX/USc7zKQtGi21ngZvNOGz2ky7Vn+LvPn45ObGXRTzr3mfXlfbpME+rZzKnU1WV68/2bfpzzBRvai3Zcf9NkP32WNwXc/9CeaVgft/xW4PltnE8Ukeugteva7GpdH9Sjh7ariI7O8vN9RG5uv+qkwYAAL/S7SQJrYEd/OWBeBwPlFZlzN81jDoalWo0nN5z8tlQb1aWkHymCF6dOzWsJ+lZPfgpOqNl0N963BcsnlNLg0WAbC/lspX0aXda6rKtnCXfzxHlUNm+fTVGu/qJbL//Jsgun9Px988kjJ6SA21IwI6/vrObfi4SoGWS96bHAxJHAACATSg3Ksw/knBzlaP71SflnccsqUhlAePvqP2u0JIQ+fJMf4hFEGqeWqdrzmCu92GFne26/yujVtU8Uw51uLTjeWN00PdaLhVKS8JMi0f+tymJ2rf+dHnyMrvXC0PvAgCAE5Ek7HTOIPiny4PMDUsaLDv3MvlS57n0BH3+qak6Os9AOo56k+R4s0BT75jAOUly6vaoVfvLdjZIEo0nkwgdmPktSoWSJT1sPgSpWUyryL71R2ncrbdm5P0VNlYiAQAAVESSUGg9pqVF5aEl0/Hm3UB/K8eLea348L1UBnJezl1DyQH05X1WnZ6ek+A2fClq/OfpULKR9WTfKFokdnS83SU5ziQeqeHXTxzqNTmPg1sSTKIxVHtnP4QTr+8sslYXl44HAADgQkgSFsyT9JE6pTKQdE6AA2vPnYe23MjXv7UIMhu9KN13GrwmCUl6nANLQ1qDrEPzouN11e1PP35rkM+NkG6Xd/Jee+JelGit9uU45PhZq8ao4eup8s0xE40lCZpJLtL9vug+KLck7D9+mhRandrt9Zlt13eqA+5P2n/GVXvTEFoAAABncIPzJFzeYtKxn9C59Tuk8yeE6ox+S3+NFd96fSaZqGvY3jZ/RLaeeRIAAMApaEm4gMUT9x1j5f9eSZBq5k84qEzrmnzv9e2fzduRqUgLz9vMAQAAbgwtCRdjatcvOLPzT5Q/YU/ncfiNrSjffn3mN2WGOM2H7d3KfM6UTplTZcZqAABwOJIEAAAAABbKjQAAAABYSBIAAAAAWEgSAAAAAFhIEm6W6dxafY6EwrzfLM0hcOiEYsVEZPlyhaM/nXb9P92+78esr3LNy/0cPnM2AAD4CUgSrk4x6daOYG3eV7MU7K0HamYfnqbB63EjL3VGiuM4WTaNsrPr/LJJ0sy2o/I8ZwfJ9/+dCcbO6z9Vhe/3JKd8P2bCuqm8PeeWTkqX3yNGVgIA4DqRJPw6SRD45EvBLA9k1wO1/WPtA5s5vVcFbihva5I21+c0yaMef+UkGQAA3AyShKvjqDfZ9RR7ro/IVfthSwIw7yvNIV4vNc7/vvM7VTZZ2O91+ft32v6T7V8DueHLwaVqAADgepAkXJFz1MPP34eK3La25RDjbrH/bDmkqucr6/Xd+8ukOCdfv9nATLqWb79a6mXv375H++7f6rmlS7OfpIW2xXmsONv34zyo7UYavpMlAADwW5EkXBGnN0nLh+JNBeOLwNTMtBvJr28OBucfkdz2gzaF2CaI9KaBZnmZklkGBzxu3nl+F7fS6ba0VA30T73+VOip9nKf7WMWSP7T4om72f/b43Lfo04orxTk77t/rcFy2zgeqSP3oBah830/jh7arqKPTUlC1pJ1oRwOAAB8EZKE36I1sIPHWRFMlstKsnrxnaKhrvMB8bLT7epyUKB/8vV3NJrkgbtzp0aSsBWxtAnSy+fSejw2WDedjz0lBzqu4/m5TD9LrRhFkvamx/ibzwsAAJyMJAELJohNH34XrRAbSll+rtNbEs5y/Z3HUlKWJS6LxGBl1KmaF+YrDpN2PG+MrISjXEpU96OsRSP/+2uGIc2TtNm9Xo4YWhcAAPwsJAmwLEpS4pkC+aofUpT/RUzZzfrQmudpSbjc9SdJTN0edeqosh/T8XzY1mzlopbnnQ9fuhim9YLDkDbu1kud8v4KGyuRAADA1SBJuCl5LfnwvcIT8p86ilA+zv/FWzkuff1J0nBwS4JJNIZqX2xkqqrmeh9GF+s8DgAAvh9JwtUoJsEqylRCeWk5yWGlHc5DW27k69+GB+Sro+eknXgrP4Y/z/l9p9Oufx8zEVmSoPn1fP8vug/KLQn77186SZnVKd1ev9sZv5/5u4a7htkFAABX708cx//lr3EjTDCcBsBFB9sDmNr3+sez4hOD5/QcNDp5P1/tXNf/023/fkyyUdewPdtSxpSt/3g+YmQoAADwY9CScINag5/b3wA/2/7ZurMyrfCN3xYAANeMJOEmmVl3R+ocO2vuYuScQyfkWo5AdHA5/k9y9PX/dPu+n7H++Y3lEK9btAbmt5Xdo68ZWQkAAJwb5UYAAAAALLQkAAAAALCQJAAAAACwkCQAAAAAsJAkAAAAALCQJADnNu+rmY8SdMgIP2YOhmKb3zdyEgAAuCYkCbgqaSDd7OvnDqw5V//Jl4KZ4jhOl82Tjq1zepNsm1F5JmYAAICvR5IAnNVcH5Gr9sOhc1kDAAD8HCQJ+DJpK4CZ5Xnc3VqKM+4uy3TKLQZFKU7dj6TIV734TK2ZTwg3V79ZkzWJtDnO6j62Hr/Yfjmh2HLf52Nd3xElRfb2K9eb2Hb/lvLr+9GtMQAA4LuRJOBrmZl4X+41M2U1s0DynxaBuAlwPY0WZTqjRpIM5MFsUYozC1zJDbLt02WiitU8mR3HN0LvRfez/PidKFldMZheJB6eQiXb1YtgfZkImCTl7bE4b7P/UN4BwbrZ3puWrz3WoJWvTOy6fwAAAIcgScAX62g06SmN6507NZKA+iONYsd6C10Ff5dRb+tvIDca6v2sUe6242c6o2XS0Xo8oG9Aa5AH56PkCMl15IlGHA9UXJFJdMpB/UH7L2y9H1XvX0sDc17FPQAAANiAJAFfq/O4CJqLgDUNnOefmlpP4JOl7ifvnNm243+FlVGPal6Yr6jGJBlp40dxj8qtBF91/wAAwE0gScAPUn4CXywHlhP9WGN1k6C9POrRMaMYLUZAimcK5KtudUr4zfcPAAB8JZIE/AzOg9puJP/f7q68zl1jR8mNFL7l25un9gc+qf9aSdJw0vk5MrdioeL9S4+btjQwDwMAANiOJAE/hKPeZKZg6i3LZcyy2vG2Ncg6FC/KaooRiJLtXwO5pmOyeb/+oecfNd9AS38DV5Ffz8/7RfdB+fyy0ZXSdWnyEMqzri8J71dGNko7MS9qpSrev+Rz9675N1SRTwEAAKz6E8fxf/lrALfAjMSUJCKd0Rf2xwAAAFeFlgTgpszVfwnTYWRLAyEBAABYSBKAW5HO5VCXr0AzhkAFAAA7UG4EAAAAwEJLAgAAAAALSQIAAAAAC0kCAAAAAAtJwhWZ95v5+PdMhAUAAIDLoePyFTKTankaKWaQewAAAFwALQlXqPXYkaafKzPpAgAAAOdBkgAAAADAQpIAAAAAwEKScI2ce7nRUO/UGwEAAOACSBKukdPTJH6VnhjpCAAAAOdHknCN5n01a0/Sa6w4HogxjgAAAHBOJAnXaP6hyG3rwcn/BgAAAM6IJAEAAACAhSQBAAAAgIUkAQAAAICFJOEKjd9CqXEnuiQAAADgEkgSrsi831StVpMXdjQaMKYRAAAALuNPHMf/5a8BAAAAgJYEAAAAADaSBAAAAAAWkgQAAAAAlptKEoqOv7VaV+P8PQAAAAC2m+y4PO7W5GmkmBGCAAAAgDU3WW7UeuxI00/N878BAAAALNEnAQAAAICFJAEAAACA5TaTBOdebjTUO/VGAAAAwJobTRJ6msSv0hMjHQEAAACrbjNJmPfVrD1Jr7HieCDGOAIAAACWbjRJ+FDktvXg5H8DAAAAWKDjMgAAAAALSQIAAAAAC0kCAAAAAMtNJgnjt1Bq3IkuCQAAAMC6m0oS5v2marWavLCj0YAxjQAAAIBN/sRx/F/+GgAAAADokwAAAADARpIAAAAAwEKSAAAAAMBCkgAAAADAQpIAAAAAwEKScKB0GNVmX/P875/mp58fAAAAfj6SBAAAAACWm0oS0qfs3bE07qaTqpml2befuY+72fvpUnoiX0zEVvcjKfJVLz5TayrbxVz9Zk1m9wvmOKv72Hr8Yvuxumv73m//+VU9fv6nsXL+xrb7s5SfP60ZAAAAV+v2WhJCT7WXe83iWPEskPynRRBtAmBPI8VmXbKMGkmwnQe7Tm+SvjcLXMkNsu3TZaKek21fyY7jG6H3ovtZfvxOlKyuFmxXPr89x99l1/0BAADA73GD5UYdjSY9pXGzc6eGIn2kUe5Yb6Gr4G/L/JFq/Q3kRkO9nzUK3nb8TGe0DOpbj53sxVntPv52Ve9PSwOTRBTHAAAAwNW5vSSh85iEsYUsoB2YN+afmiYBs18vldPU/eSdM9t2/K9y7PG/6v4AAADg29Fx2eIqyEt9lsuB5US/GvcHAADgFpAkFJwHtd1I/r9yz911zl1D2lGCFL7l28/7anph9voL7Tu/fbaef8X7s+i4XOsmrwAAAHCNSBIWHPUmMwVTb1lOY5bVjrmtQdaheFF2U4welGz/Gsg1HYPN+/UPPY8u0adgj63nt8++8694f5LP3bvm31BFvgEAAIDr8ieO4//y18B5mKFTvVCd0Rf3twAAAMBZ0JKAM5ur/xKmw7CWBkICAADAFSFJwPmkk7TV5SvQjCFQAQAArhblRgAAAAAstCQAAAAAsJAkAAAAALCQJAAAAACwHJQkzPvNfHx8JsoCAAAAfqujOi6PuzV5GilmEHwAAADg1zmq3Kj12JGmnysz7QIAAAD4DeiTAAAAAMBCkgAAAADAclyS4NzLjYZ6p94IAAAA+HWOTBJ6msSv0hMjHQEAAAC/zXFJwryvZu1Jeo0VxwMxxhEAAADwexyZJHwoctt6cPK/AQAAAPwadFwGAAAAYCFJAAAAAGAhSQAAAABgOSpJGL+FUuNOdEkAAAAAfp+DkoR5v6larSYv7Gg0YEwjAAAA4Df6E8fxf/lrAAAAAKBPAgAAAAAbSQIAAAAAC0kCAAAAAAtJAgAAAAALSQIAAAAAC0kCAAAAAAtJAgAAAAALSQIAAAAAC0kCAAAAAAtJAgAAAAALSQIAAAAAC0kCAAAAAAtJAgAAAAALSQIAAAAAC0kCAAAAAAtJAgAAAAALSQIAAAAAC0kCAAAAAAtJAgAAAAALSQIAAAAAC0kCAAAAAAtJwtHG6taa6s/zP1PmvW7y//uYz9VUS5amvQMAAADg2x2RJMzVb5oAt0ow/BOd4/zNPjxNg1f1nPytVEt/g6m8Pfsedz2FnZHiONbE3gEAAADw7b68JWHeb6rW7Cdh9vWa95/kK9DrhgDf6b0qcEN53W1pwlyfU6nz2Mr/BgAAAH6WI5IER71JrDge6DrD3BPPf97Xky8Fr71kT5sk+38N5IYvK6VIAAAAwHU4KElIWwHyWvr1cp2sjKc7Xtbb10o1+8W2dT+SIl/1DZ/ZadxVrTtO/sm2646LsiF7+2J9ttjneMr5F+bvQ0VuWw+7qoScB7XdSMN3sgQAAABcn4OSBKc3Sevo41Enf2dd6L3ofmae1McadSL5T1lpUbHtLHAlN9DM7CddJit1/TuEnl7uZ+k+Qq+uj+eZglIwbpKAt8div+b4obxSadMp51+Yf0Ry2w9bWhEKjh7arqKPTUnCXB+Rq/uq1wwAAAB8sbP3SeiMlkF/63F7MH6cjp6LnSeJxt+VeiGTBAxK7x1z/N3nn/UnqGz6WUowihaKNz0ekhgBAAAAX+zLOy5f1Lyv5qJUKFm8MF/xE7Q0MK0Ys3u9VC2xAgAAAL7BL0oSxurWTY/i2aLcaFdZ0Zdo3K2XJeX9FTZWIgEAAAA/wJcnCc5dQ4qGunyf3iRpOHtLQt7XYPhu9VNYN9f7MJJLxwMAAABcoQOShGI0oaKMJ5SXlvUcWDrTGmQdguv5vs5WemMmMksCeL+e7/dF90G5JeE85+88tOVGvv7tmi1t/q5h5Kq9cwgkAAAA4Gf6E8fxf/lrVGSGWfWmgWaTTXMlmGSkrmF7tmU25Wz9x3NsdbIGAAAAforf1XH5i7QGMwXyVd8wq/Ku2ZgzjkzFVfi2qykCAAAA+D60JBzNDGlq5lQoD2dq3jNDnO6bzdl8zpMpenKDbS0OAAAAwPcgSQAAAABgodwIAAAAgIUkAQAAAICFJAEAAACAhSQBAAAAgOUGk4RiUrWuGIQUAAAAWEdLwoHm/aZqzX6SagAAAAC/0w0mCY56k1jx3rkMAAAAgNt0U0lC2gpQM6VGm8qNsjKk7thMdFZ8pql+3mRQbFv3IynyVd/wmSrG3WI7s5TPoTh+/qcx7i5bLeZ9Nc025Q+Y9cl7TesE8vOntQMAAABHuqkkwelNFMex4lEnf2dd6JlZlE1LQ6xRJ5L/lAXbxbazwDXTJGtm9pMu5RmXdzOJxttjsZ3ZfyivajDv9DSZBXJDL08kkmTAC5mxGQAAAGdHn4QVndEy6G89bk8mjmESjUGpxung/SeJwmuSpIQvffW7nsLOaEOC0NLAJCGTnkgdAAAAcAyShK9UlAwVixfmK6pzeq8K5MsPOxqVMw4AAADgTEgSvsxY3bovBbNFudGusqdt5v0n+Y3RYaVKAAAAwAFIEg7k3DWkaKj3k6PzrE/BqvAt75hsWh1W14+7qvuNtAWhNRipE/l6Wus1XXS8Zh4IAAAAHOeGkoRiErWizCeUlwbTh41OlETnWYfmer6vytu39DdwFfn1fLsX3QfllgRHvdesY3K6vv6h53JLgxnJKO2o/DcfunW5P2tEpGQ/9675N1SRbwAAAACH+BPH8X/5a/wWeULRGcVWR2kAAACgCsqNfp25+i9hOkzrXxIEAAAAHIEk4TdJJ1ery1egGUOgAgAA4EiUGwEAAACw0JIAAAAAwEKSAAAAAMBCkgAAAADAQpIAAAAAwEKScIJ5v6las6+TJ18+SDEpHDMqAwAA4DJIElZ8T+APAAAA/BwkCVfHUW8SK44HOvtcaek8CztaKPatBwAAwK9wc0nCuGtKdZZLN4940xaE5O+6H0mRr/riM031S80K5e3Tz64Zq2vWb22N2LN+3lcz33+6lD5XnGO2rAbrWRlSd5zvP13sc9+rNdCoE8rbtt2+9Qn7/pbPsTi//E/DJB3F9RXXXf5AmpTU1LQOtu/+AgAA4FQ3lSSYINubBprF5kl8tgzyx/FOb5L+PQtcyS1/ZqJePnWxCYA9jRbbpp89JxMU1301Rsvzi0szJxfnGI86+TvrQu9F97Ns21Enkv90WDDdGpjrkvz6SkCf27Xe3N+3x+W5pwlF1WDe6WmS7NgNvXy/STLghclXMdOk+AIAAADwJW6v3Cga6v2YR9Dzvl5CV8HffUU+LQ1Wgnvb9vXjt1DqjBaJyzE6o2VS03rcnkzskiYjScA+9Vaf4me2rTfvl8/94OMnicJrkniFL331u57C5F6sJwj77i8AAABOdVNJgglii6fgaTnMwSUrDd1dLDKd63OaBPmPZ+9pcJLI/7dS1mSz1q+WSnlJ0nMgp/eqQL78sKPRKdkSAAAAjnZzLQmLkp14lgaj9U01NVtN9XlMK8QBppc+QBVW2dOGDtIb14/VTd5TMMvvb7LsKIvaZt5/kt8YHVaqBAAAgLO6vXKjBUd3jfxliWPe3FSS5NypoUjDYkUSKJ+347Kjh7aryH86rLPxmaUdj71pEusv+2uU7Vu/lPUpWBW+5UmZaXVYXZ/e00bagtAajNSJfD2t3Yz8/jHKEgAAwMXcVJJgj7xTyzoxr0a66Qg+0bIkaTGST0uDrFYpe//lXrMjnpTvslYOZZZFMlFMopYsaXBtRhkyfx84gtEuSZDumTKfUmdty871Lf0NTJKT35/ai+6D8v1x1HvNOian6+sfei7fP9M6kXZU/pu3TCz3Zzf2OLpP+4uHKvINAAAAnNefOI7/y18D1yFPKDqjfa0ZAAAAOMYNlxvhOs3VfwnTYWr3DjQFAACAo5Ak4HqYFoRaXb4CzRgCFQAA4GIoNwIAAABgoSUBAAAAgIUkAQAAAICFJAEAAACAhSTh25hJwc44xwFugPnNVJlErphwrqYmPzAAAHCE20wSzGy/eRD1PYGUmRjN0zR43TApWTFp2nfNKHza8a0J67bOOr3Ld1//d9t1/WaCuam8Pfdm3PUUdkaK41iTjbPiAQAA7HaDSUIShD35UjBLg6jvCKTm/ad0GM/XCxx33m8eGZyfziQI6SzW6X2dJVfoq25Pl4wTOb1XBW4ob+t9netzKnUemUQCAAAc7waHQDWlGC+6n002PMX/AqYVoz5U+0LHN0lCfdj+hnkENtzXdGbkaZKPXeZaTVLycj+7vaflO39DpiWiro9nZqMGAADHo0+CpSj1KBa7rCN9Sm+e4KaTemWfObRUaf4+VOS29bAhrk33v+XYxbl1x8t681qpT0Oxbd2PpMhXfcNn9tl9/D3GbwrV0N3iupLzNTMjK9KHdfz8/De0dlQ/frYP02qx2hpjlTtZ+yjuX/6nYb7H4jyKErTyB/Lv2f6Ot59/YfE72WLb+srX7zyo7UYavm87AwAAgNPcTpKwCOy9JJiN5NdXg7HsCazfyGq5zTLbVP8deqq93GclNbNA8p8O6nw8/4jkth82PuV3epPs2KNO/s660DNP67PzG3WS63jKgtVi21ngSm5R8mOW6k/xdx+/nJzYyyLede+z60oDbvM0eyZzOlVVuf5s36Y/x0zxSmuJCbLfHovrNvcnlFe19MrpaZJ8n27y/WbXk1yvFya38utaKipdf8rRQ9tVZGdfubk+Ilf3X3PKAADgl7qdJKE1yIPHkTpyFeSBdhwPlFZlzN81jDoalWo0nN5z8tlQb1aWkHymCE6dOzXWnpTvktWLn6IzWgb9rcd9weQ5tTTIg+/VpVzWkj4NT0thtpW75Ps5ohwq27evxmhzPxITZJePefD9SRKF1ySrCV/66uedf9ePc/z5n930s5QAFUncmx4PSAwBAAA2odyoMP9Iwv1Vju5Xn4R3HrOkIpUFjLdR+12hJSHy5Zn+EIsg1TzVTtecwVzvwz07K0qGisUz5U6HSTsGy5cf2gnjPuVSobTky7Q45X+bcqV960+XJy+ze70wtC4AADgRScJO5wxyr92elgTnXiaf6jyXnrDPPzVVR+cZaMdRb5IcbxZo6m0KrJMkpm6PWrW/bGddOvJUY3RYqVJiUSqULOlh8yFIzWJaI/atP0rjbr01I++vUL11CwAAYB1JQqH1mJYWlYeWTMebdwP9PVtLQV5LPnyvHHweyrlrKDmAvrxPq9PTcxL8mlKd7NDzdKjZyGp5MYoWiV0dk3cwfQfikRp+fc9Qr1mfglVhUTtmWh1W14+7qvuNtAWhNRipE/l62pSMnHL+Z5G1qrh0PAAAABdCkrBgnpQngWGpDCQd8//MtefOQ1tuEnz+W4sws9F30mOnwWuSsKTncWDpSGuQdWhedMyuuv3px28N8rkR0u3yTuBrJTtFCddqX49Djp+1aowa5SDeTDSWJGAmeUi3e9F9UG5JcNR7zTomp+vrH3outzSYju3Jcd3gb57ULPdnD0S07fxPdcD1p/1nXLU3DZEFAABwBjc4T8L3W0w69hM6v36HPCDvjK60P8e3nr9JJuoatreNupStZ54EAABwCloSvsHiibv9iPpGJEGsmT/hrGVcX+l7z3//bN2OTMXZoqwKAADgCLQkfBtT2/6NMz9/h/wJfDqPwzW2onz7+ZvfjBniNB+2dyvzOTMfiDnVG5yRGgAAnIwkAQAAAICFciMAAAAAFpIEAAAAABaSBAAAAAAWkgQAAAAAFpKEGzbvN/fMWvwTFZOOfeeMxwAAAL8bScIv89MD/+tMTAAAAG4LSQKujKPeJFa8d64AAAAAHIsk4cqMu6bUZrkUkzanT+iTv+t+JEW+6ovPNNUvPbYvb59+do2ZiCtZv/Vp/+71p5xf+hmzgZm0LF/fLJ18sY9sWS03ysqQuuP8/NLFvvbiM8t9ZEv5GPtsu76lffcPAADg5yNJuCImSPamgWaxeZKeLYP8cbrTm6R/zwI3mxF48ZnljM4mwPU0WmybfvaMTj2/VOip9nKfrZ8Fkv+0CPSLfcSjTvbGBqFnZrHO9j3qRMnmy2B93K3LbxTXP1N2KtVnJN51fQAAAL8JScK1iYZ6P+YR9byvl9BV8HdfVNvSwATAk542h8571h97fgsdjYp9O3dqKNLHAfvrjJZJR+uxnEyM9RYm6x+L63f00HYVHbJzY+/17bt/AAAAPx9JwhUxT9LTh+v1vNzl4JKWhu4uGLmefn6JzmOpr0EWcJ/naX1LJmcI34r6oLneh5Hc++o35CzXBwAAcAVIEq7MouTGlMvIV329KH6HqT4vHNWedn5fwJQzmQC/lpUeVS01Kvz46wMAADgDkoSr5eiukb8sccybm0pi8tKdYbFi3L1Ix+WlA8/v4ky5kasg76+QLic1UWy+vsX9YR4HAABwxUgSrsjqyDppJ9rVQLc1yDrsFiUxixF+WhpktTLZ+6Zz8I4OwMc47fz2KY1M5IXJ36G8g7Zv6W+5VKhYDigZqnR9SfJwn/YHD7WobAIAALgyf+I4/i9/Dfxe876a9aHas/JoSuapv6fpASMcVWKGcE0Smc6I0Y8AAMB1oiUBt2H+obXiqvmnpsk/jbP25p6r/xKmw7zuHUgKAADgh6IlATcjnSfCVCqVnPVpf96CkM4DwRCoAADgipEkAAAAALBQbgQAAADAQpIAAAAAwEKSAAAAAMBCkgAAAADAQpJww+b95kGTiZ1HMSkaMxIDAAD8VCQJv8z3BP4AAAD4TUgS8MUc9Sax4nigs881ZuYp2NVCsW89AAAAUiQJV8ZMCFarLZduHvGmLQjJ33U/kiJf9cVnmuqXmhXK26efXTNW16zf2hqxZ/28r2a+/3Qpfa44x2xZDdazMqTuON9/utjnvldroFEnlLdtu33rK9h2/5f23T8AAICfjyThipgg25sGmsXmSXy2FLMFO71J+vcscLMZfxefmaiXT/2bzjis0WLb9LPnZJ7U1301Rsvzi0szDxfnGI86+TvrQu9F97Ns21Enkv90WLDdGpjrkvz6pgB+//pddt1/AACA34Qk4dpEQ70f84h63tdL6Cr4uy+qbWlgAuBScG/bvn78Fkqd0UmBc2e0TGpaj9uTiV3SZCTJBKZeTc0NTQb71u+09/7vu38AAAA/H0nCFTHBbfEUPC13ObikpaG7i0Wuc31OkyD/8Wc9Wo/8fzv7IOxbX3b6/QcAALgOJAlXZlGyE88UyFf9oJqZqT4vHNVOL32AKqyypw0dpPet3+G0+w8AAHAdSBKulqO7Rv6yxDFvbiqJce7UUKRhsSIJlM/bcdnRQ9tV5D8d3Sn4HNKOxd5UwWxzf4F966vbfP8X94dRlAAAwBUjSbgiqyPrpJ1oVyPddASfaFkSsxjJp6VBViuTvf9yr9mODsTHWCvHMcsimSgmUUsWL0z+NqMMmb+PH2loTZL4eGFHo1Jnbcu+9XtUuv9J8nCf9gcP9UaWAAAArtSfOI7/y18DOAdTzpQkQp0Rox8BAIDrREsCcFZz9V/CdBjavQNJAQAA/FAkCcC5mBaEWl2+As0YAhUAAFwxyo0AAAAAWGhJAAAAAGAhSQAAAABgIUkAAAAAYCFJuFlm0q8zzlGw5pj9m212TUK2b32hmNCspuZ3zuwGAABwpUgSrk4xKdmOYHneV7M06dd6oGz24WkavG6YVKzC/vfatf9dWvobTOVtPfa+9Zlx11PYGSmOY02OmTUNAADgxpEk/DpJgP7kS8EsDZI3Bcrz/lM6TOfrhQLoU/bv9F4VuKG87uY0YN96c/2fU6nzyCQFAAAAx2II1F/HlNq86H422fwU37Qy1Idqb1t/qnPsf98+dq43rRh1fTwz2zEAAMCxaEm4IvN+c1FCdGw50Px9qMht62FD8F1l/+NusT5bVh/o79q/sW/7lPOgthtp+L6lP8G+9QAAADgJScIVcXqTrIRo1MnfKUln+zWBt6dQkfx6EYjbwf78I5Lbftg4G/DO/SdMEuFNA83yMiazrD6t37X/KttnHD20XUUf25KAXevn+ohc3W9JUgAAALAfScJv0RrkgfdIHbkKZkUgPtAyDs/q9U8SDbX9AX6F/e/cfsX0M9njDtb6YkSjNz3GFyqlAgAAuBEkCajMtDTMAi1bKZr93UH8ilO3362lgUmKZvd6uejQrgAAAL8fSQIOsihJimcK5Ku+dZShzQ7avnG3sWxpYdP6vL/C1kolAAAA7EWScFPyWv7h+xme4Du6a+QvFw7Z/6btC3O9DyO5WzsW7FsPAACAU5AkXI1ikrNk8cLk71BeWoN/WGmN89CWG/n6t/YAf//+V0cmSjshr/Q83r7/atun5u8aRq7a24ZI2rceAAAAJ2GehBtkgvU0QJ/01st1zuC0/WfzHAzbsy2zJVdbzzwJAAAAx6Ml4Qa1Bsf1J6jqlP3vm615/2zOWRlT+HaZawMAALgFtCTcrD0zM5/smP2bbcwQpuVhW8v2rS+Yz5n5IiQ32NbiAAAAgG1IEgAAAABYKDcCAAAAYCFJAAAAAGAhSQAAAABgIUkAAAAAYCFJwNWa95uqNfs6ffboGzHuppPYpSPTll8XE+ltGLI2nQDvXPd46/Gv00///a2eX/p3cs+zpasrvvUAgC9AkoAf5bcH/t96fc693PxlxtV9Ojqso95rIDf07KB93tdL6Cp4PdOke1uP/3P85t+f05sojmPFo07+DgAA25EkAFfKPOVv9reHs5vX54H5asDu9PScxI7hyzJAHv/zFXWezzyPxpbjb3Dc9QEAgHMgScCXSstXFiUPy3KTohSi7kdS5Ku++ExT5TiwvH362TVmIrVk/danwXvWz/tq5vtPF+tzeVnOYn25ZCNbZz2JNyU1+fZVr6+a7Bq86baZp7esTxKBSZxPbld+nWsNRuok5/ZkTqhoRfhrT1tnfX8b7uG27ze15/hLR15fBT/997f9/ha/r3z7dFn/7ew/v332nT8A4FaQJODLmEDMBHYzU/KQL4M8Bi1KIWaBa6ZJLn1mGUiaAMjTaLFt+tlzMkF93VdjtDy/eFKU2pggrS6/UT7+VF7F2u4q11dJmsR4mgaz0rmV7Fu/U0t/k/OL/H/q/vOl4NU6t9X7P2okwXQpmNz1/VZ2wev76b+/fffXCD0zi3m+vhPJf1quv/h/HwCAm0KSgK8VDfV+zCPKLU+217U0MEHS1gBy+/rxWyh1RpsD2/m7hlFHo9JKp/esjkK9VckSziB92p0nMZMNmcW+9VU4vVcFbqgw7OjZ2sdYbyv3v/U3kLv6fR77/Sa+4vp+7u+v2v3tjJZJS+ux1Leg8vnts+/8AQC3giQBX8Y8rZ0Fkl/PSyIOLmlo6O5ikctcn9MkCHvcEmTNP7RevOHo/sse1s71PtxVPrJvfVWO7hrJP53HJFwsmX9qmtyBxXdnliRgLx/xtO/38tf3o39/Fe7vfpf87wMAcGtIEvClirKOOJ4pkK+6VbS+z1SfxzwFPsD0oAPM9XGOuLwSR71Jct+SKHfqbeqwu2/9ObgK8lKX5WKXSx3//X7N9f3s39/++7vb5f/7AADcDpIEfJP8ifUKx7y5qSTEuVNDkYbFinH3zB1HHT20TT3+0+aOxK3HtLTIKwWV466n0A1UrvAIi9ojUzvvhdnrkq3XV1Xa4Xekhl/ffI371h/LeVDbjeT/qx70b/p+9/qy6/thv7+D7++Kyue3T35+zKMAADePJAFfxnSsXJRSJEvaiXS1A0BrkHXIXJRdFCO4tDTIakWy91/uNTvzeO9r5ShmWQRzplZ7pE7oLdal57+o3V7ONZCur3/oedP5bb2+Q2R146ZjazoS0Zp9649hnuTPFEyX158upWC30vdbyWWu72f//vbf3932nV9pZK40eU0S3vQYq7+/ooTu6/raAAB+pj9xHP+XvwYA3DozyleSSHRGR4xOBQD4NWhJAADk5uq/hOkwsCcPlAQAuGokCQCArAWhVpevchkdAOBWUW4EAAAAwEJLAgAAAAALSQIAAAAAC0kCAAAAAAtJwhWZ95vZOOc/fqKjYkKmS838CwAAgEui4/IVMpNCeRopPnAQc5NkLGdh7WgUD3SJUQ6PPT8AAAD8DLQkXKHWY0eaflaciXXJzCicJIWKzzxTsW2uz2mSgjySIAAAAFwrkgQAAAAAFpKEX8aU+mT9FpKl2T+4tcHaPlm6K50fTt0/AAAAfj6ShGvk3MuNhnpfidAXfQFMSVGyjBq+6gcE8qbPgjcNNMu3N0u5W0G1/c/1Ebm6Z7pWAACAq0WScI2cnibxq/RknugXIx2N9Ra6Cv4uo/rW32BjMrHT1s/v238xotGbHuOJeiQJAAAAV4sk4RrN+2rWnqRX80Q/H6Fo/qmpIvn1UjlQ3U/eqc50bJ4FWu6j3Eqwd/8tDUwLw+xeL7WmGPkUAADgepEkXKP5hyK3rYe1p/WugtmyVChbDnuqvxgBKZ4pkK+61Smhwv6dB7XdSB8kCQAAAFeLJOG3yINz/9+5pllzdNfIXxpn3z8AAAB+KpKEX8NRbzJTMPWW5UBWydBc/Wb+nhcmf4fy0s8sS4NWRzZKOzEvei7v2z8AAAB+C2Zcvkbjrmov95pNekno/tOYZKSuj2d7ZCQAAABcD1oSrtD4LZQadz8wQTCyMqXwjbIkAACAa0WScEXMPAZpGVDY0egHP6ZvDUbqhFlZUpNhjgAAAK4O5UYAAAAALLQkAAAAALCQJAAAAACwkCQAAAAAsJAkAAAAALCQJOBqpaM9MZnb+Zj5N2o1dc3oteXXxryvppk8b/FGIn1vORnfXrv2f4V++u9v9fyK0dGypasrvvUAgC9AkoAf5bcH/j/6+px7ufnLjKt7azIOV+70pXpSsGrv/r/fb/79Ob2J4jhWPOrk7wAAsB1JAnClxt3d81DsW79ZHrivBfSZdruh4fspIfTu/Zdd5voAAEAVJAn4UiawW5Y8LMtNilKIuh9Jka/64jN2OUt5+/Sza8bqmvVbnwbvWV+U1RSL9bm5+s3SOqtkI1tnlc+Ykpp8+6rXV012Dd400Gtv06P4feu3cHqaxBOlm5Rflz08qjF833zvdt6fRJX9py50fYmf/vuzzm/Db687zrdPl/Xfzv7z22ff+QMAbgVJAr6MCcRMYDczJQ/5UkwcXZRCzAJXcsufWQaSJgDyNFpsm372nExQX/fVGC3PL570lB3eBGl1+Y3y8afyKtZ2V7m+StIkxtM0mJXOrWTf+pO19NgYar0x4bT7s3DB6/vpv7/V/Y8aSbKyEqyH3ovuZ/n6TiT/abn+4v99AABuCkkCvla0KcCsIAkOX0JXwd88qtuqpYEJkrYGkNvXj99CqTNaBI6W+buGUUej0kqn96yOQr0dFAUfL33anScxkw2Zxb7159J6bMj/t3LRZ7g/X3J9P/b3N9bbyv5bfwO5K+fbGS2TltZjqW9B5fPbZ9/5AwBuBUkCvox5WjsLJL+el0QcXNLQ0N3FIpe5PqdJEPa4Jciaf2i9eMPR/Zc9rJ3rfbirfGTf+jNq/VUwfbNbCE6+P5e/vh/9+5t/aprcwcW5mSVJiA674kv+9wEAuDUkCfhSRVlHHM8UyFf9oDEwp/o85inwAaYHHWCujy+Ky03A3Zsk9y2Jcqfepg67+9afk6OH9lRv7/mfWx1yf77m+n72789VkJcSLZdDytEu/98HAOB2kCTgmzi6a+QvSxzz5qaSEOdODUXLkXXG3TN3HDWBr6vIf9rckbj1mJbOeKWgctz1FLqByhUeYVFbY2rnvTB7XbL1+qpKO/yO1PDrm69x3/ozcR7amg6H+V+Jivdnry+7vh/2+3Me1Haj9TKuqiqf3z75+TGPAgDcPJIEfJnyyCtmSTuRrnYAaA2yDpmLsotiBJeWBlmtSPb+y71mZx7vfa0cxSyLYM7Uao/UCb3FuvT8F7Xbjnqvgdxiff1Dz5vOb+v1HSKrGzcdW582ZzR71p9BEqw/N6JSOcy++3OIy1zfz/79mZaSmYLp8v6lS+VEaN/5lUaeSpPXJKFLj7H6+ytKxL6urw0A4Gf6E8fxf/lrAMCtM6N8JYlEZ7Qc/QkAcHtoSQAA5Obqv4TpMLAnD5QEALhqJAkAgKwFoVaXr2PLxAAAvwnlRgAAAAAstCQAAAAAsJAkAAAAALCQJAAAAACwkCRckXm/mY1zzkRHAAAAuCA6Ll8hMymUp5FiBjEHAADABdCScIVajx1p+llxJlYAAADgMCQJAAAAACwkCQAAAAAsJAnXyLmXGw31Tr0RAAAALoAk4Ro5PU3iV+mJkY4AAABwfiQJ12jeV7P2JL3GiuOBGOMIAAAA50SScI3mH4rcth6c/G8AAADgjEgSAAAAAFhIEgAAAABYSBIAAAAAWEgSrtD4LZQad6JLAgAAAC6BJOGKzPtN1Wo1eWFHowFjGgEAAOAy/sRx/F/+GgAAAABoSQAAAABgI0kAAAAAYCFJAAAAAGC5qSSh6Phbq3U1zt8DAAAAYLvJjsvjbk2eRooZIQgAAABYc5PlRq3HjjT91Dz/GwAAAMASfRIAAAAAWEgSAAAAAFhuM0lw7uVGQ71TbwQAAACsudEkoadJ/Co9MdIRAAAAsOo2k4R5X83ak/QaK44HYowjAAAAYOlGk4QPRW5bD07+NwAAAIAFOi4DAAAAsJAkAAAAALCQJAAAAACw3GSSMH4Lpcad6JIAAAAArLupJGHeb6pWq8kLOxoNGNMIAAAA2ORPHMf/5a8BAAAAgD4JAAAAAGwkCQAAAAAsJAkAAAAALCQJAAAAACwkCb/MuFtLR3BKl2Zf8/x9AAAAoCqShAOlw6j+0ODbJAjeNNAsjhXHMwXyVe+O87UAAABANSQJv8ZYb6Gr4LWXTxLnqPfckcIX9WlOAAAAwAFuKklIWwHMk/Vxd1GS01yJoLeV6xQTsdX9SIp81YvP1Jp5ED5Xv1mT9eDeHGd1H1uPX2w/Vndt3xWM3xSqobvFNNLJ/l7C5N9IH9Y+8v1TigQAAIAtbq8lIfRUe7nPSnJmgeQ/LQLxtFxHI8VpuU6sUSNJBvJg2ulN0vdmgSu5RUmPWSbqLQLzCnYc3wi9F93P8uN3omT1AcG8e5+1Isz7atbq+nieyZwuAAAAcIgbLDfqaDTJS3KcOzUWT9rzcp2/LfNHqvU3kBsN9V45Sq9i2/EzndEy6Wg9drIXB0hbK+pDtZNEY7C8lJKWBiZBKc4BAAAAWHF7SULnMQmTC1nAnAbT809Nk4DdrxelPslS95N3zmzb8c8h8uUN25otWjfm+jj7BQAAAOC3o+OyxVWQl/oslwPLib6Lc5+cfZKDPJdaCNLEp6PHcyUhAAAAuAkkCQXnQW03kv9v95Chzl1D2lGCFL7l25t+AZ7pOPxFnJ6ywYyKPgxz9Z98RVbLhVF0jO4mrwAAAIB1JAkLjnqTmYKptyw3MsvqKECtQdaheFGWVIxAlGz/Gsg1HZPN+/UPPY8O71NwitYgnxshPa+6/MZI8Votk6P7tDNzqCKfAQAAAMr+xHH8X/4at8IMweqF6ozO2B8CAAAAvwYtCTcnnz/BDVQayAkAAABYIEm4JekkbnX5CjRjCFQAAABsQbkRAAAAAAstCQAAAAAsJAkAAAAALCQJAAAAACwHJQnzfjOfG4CJuAAAAIDf6qiOy+NuTZ42TdQFAAAA4NodVW7UeuxI0097JmIAAAAAvwJ9EgAAAABYSBIAAAAAWI5LEpx7udFQ79QbAQAAAL/OkUlCT5P4VXpipCMAAADgtzkuSZj31aw9Sa+x4nggxjgCAAAAfo8jk4QPRW5bD07+NwAAAIBfg47LAAAAACwkCQAAAAAsJAkAAAAALEclCeO3UGrciS4JAAAAwO9zUJIw7zdVq9XkhR2NBoxpBAAAAPxGf+I4/i9/DQAAAAD0SQAAAABgI0kAAAAAYCFJAAAAAGAhSQAAAABgIUkAAAAAYCFJAAAAAGAhSQAAAABgIUkAAAAAYCFJAAAAAGAhSQAAAABgIUkAAAAAYCFJAAAAAGAhSQAAAABgIUkAAAAAYCFJAAAAAGAhSQAAAABgIUkAAAAAYCFJAAAAAGAhSQAAAABgIUkAAAAAYCFJAAAAAGAhSQAAAABgIUkAAAAAYCFJAAAAAGAhSQAAAABgIUkAAAAAYCFJAAAAAGAhSQAAAABgIUkAAAAAYCFJAAAAAGAhSQAAAABgIUkAAAAAYCFJAAAAAGAhSQAAAABgIUkAAAAAYCFJAAAAAGAhSQAAAABgIUkAAAAAYCFJAAAAAGAhSQAAAABgIUkAAAAAYCFJAAAAAGAhSQAAAABgIUkAAAAAYCFJAAAAAGAhSQAAAABgIUkAAAAAUCL9f+Bz70DvrcEsAAAAAElFTkSuQmCC)"
      ],
      "metadata": {
        "id": "ZHWDRW6nKVnR"
      }
    }
  ]
}